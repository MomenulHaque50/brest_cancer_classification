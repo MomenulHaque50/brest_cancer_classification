{
 "cells": [
  {
   "cell_type": "markdown",
   "id": "c1c05bcf",
   "metadata": {
    "papermill": {
     "duration": 0.0406,
     "end_time": "2021-10-06T17:32:19.813492",
     "exception": false,
     "start_time": "2021-10-06T17:32:19.772892",
     "status": "completed"
    },
    "tags": []
   },
   "source": [
    "# ****Dataset****\n",
    "****Breast Cancer Wisconsin (Diagnostic) Data Set****\n",
    "\n",
    "Predict whether the cancer is benign or malignant\n",
    "\n",
    "Link:https://www.kaggle.com/uciml/breast-cancer-wisconsin-data\n",
    "\n",
    "The Breast Cancer datasets is available UCI machine learning repository maintained by the University of California, Irvine. The dataset contains 569 samples of malignant and benign tumor cells.\n",
    "\n",
    "The first two columns in the dataset store the unique ID numbers of the samples and the corresponding diagnosis (M=malignant, B=benign), respectively. The columns 3-32 contain 30 real-value features that have been computed from digitized images of the cell nuclei, which can be used to build a model to predict whether a tumor is benign or malignant.\n"
   ]
  },
  {
   "cell_type": "markdown",
   "id": "f374b5d7",
   "metadata": {
    "papermill": {
     "duration": 0.036802,
     "end_time": "2021-10-06T17:32:19.888261",
     "exception": false,
     "start_time": "2021-10-06T17:32:19.851459",
     "status": "completed"
    },
    "tags": []
   },
   "source": [
    "# ****Import Libraries****"
   ]
  },
  {
   "cell_type": "code",
   "execution_count": 1,
   "id": "be58b89f",
   "metadata": {
    "execution": {
     "iopub.execute_input": "2021-10-06T17:32:19.966731Z",
     "iopub.status.busy": "2021-10-06T17:32:19.965217Z",
     "iopub.status.idle": "2021-10-06T17:32:20.781042Z",
     "shell.execute_reply": "2021-10-06T17:32:20.781611Z",
     "shell.execute_reply.started": "2021-10-06T16:11:10.923707Z"
    },
    "papermill": {
     "duration": 0.85695,
     "end_time": "2021-10-06T17:32:20.781891",
     "exception": false,
     "start_time": "2021-10-06T17:32:19.924941",
     "status": "completed"
    },
    "tags": []
   },
   "outputs": [],
   "source": [
    "#import pandas\n",
    "import pandas as pd\n",
    "#import numpy\n",
    "import numpy as np\n",
    "import matplotlib.pyplot as plt\n",
    "import seaborn as sb"
   ]
  },
  {
   "cell_type": "code",
   "execution_count": 2,
   "id": "da20a719",
   "metadata": {
    "execution": {
     "iopub.execute_input": "2021-10-06T17:32:20.864245Z",
     "iopub.status.busy": "2021-10-06T17:32:20.863389Z",
     "iopub.status.idle": "2021-10-06T17:32:20.865153Z",
     "shell.execute_reply": "2021-10-06T17:32:20.865623Z",
     "shell.execute_reply.started": "2021-10-06T16:11:17.988578Z"
    },
    "papermill": {
     "duration": 0.04298,
     "end_time": "2021-10-06T17:32:20.865750",
     "exception": false,
     "start_time": "2021-10-06T17:32:20.822770",
     "status": "completed"
    },
    "tags": []
   },
   "outputs": [],
   "source": [
    "#Ignore warnings\n",
    "import warnings\n",
    "warnings.filterwarnings(\"ignore\")\n",
    "warnings.simplefilter(action='ignore', category=FutureWarning)"
   ]
  },
  {
   "cell_type": "markdown",
   "id": "89432ab6",
   "metadata": {
    "papermill": {
     "duration": 0.036186,
     "end_time": "2021-10-06T17:32:20.938793",
     "exception": false,
     "start_time": "2021-10-06T17:32:20.902607",
     "status": "completed"
    },
    "tags": []
   },
   "source": [
    "# ****Import Dataset (Breast Cancer Wisconsin (Diagnostic))****"
   ]
  },
  {
   "cell_type": "code",
   "execution_count": 3,
   "id": "dd0c580d",
   "metadata": {
    "execution": {
     "iopub.execute_input": "2021-10-06T17:32:21.015138Z",
     "iopub.status.busy": "2021-10-06T17:32:21.014622Z",
     "iopub.status.idle": "2021-10-06T17:32:21.088128Z",
     "shell.execute_reply": "2021-10-06T17:32:21.088580Z",
     "shell.execute_reply.started": "2021-10-06T16:11:27.871162Z"
    },
    "papermill": {
     "duration": 0.114194,
     "end_time": "2021-10-06T17:32:21.088732",
     "exception": false,
     "start_time": "2021-10-06T17:32:20.974538",
     "status": "completed"
    },
    "tags": []
   },
   "outputs": [
    {
     "data": {
      "text/html": [
       "<div>\n",
       "<style scoped>\n",
       "    .dataframe tbody tr th:only-of-type {\n",
       "        vertical-align: middle;\n",
       "    }\n",
       "\n",
       "    .dataframe tbody tr th {\n",
       "        vertical-align: top;\n",
       "    }\n",
       "\n",
       "    .dataframe thead th {\n",
       "        text-align: right;\n",
       "    }\n",
       "</style>\n",
       "<table border=\"1\" class=\"dataframe\">\n",
       "  <thead>\n",
       "    <tr style=\"text-align: right;\">\n",
       "      <th></th>\n",
       "      <th>id</th>\n",
       "      <th>diagnosis</th>\n",
       "      <th>radius_mean</th>\n",
       "      <th>texture_mean</th>\n",
       "      <th>perimeter_mean</th>\n",
       "      <th>area_mean</th>\n",
       "      <th>smoothness_mean</th>\n",
       "      <th>compactness_mean</th>\n",
       "      <th>concavity_mean</th>\n",
       "      <th>concave points_mean</th>\n",
       "      <th>...</th>\n",
       "      <th>texture_worst</th>\n",
       "      <th>perimeter_worst</th>\n",
       "      <th>area_worst</th>\n",
       "      <th>smoothness_worst</th>\n",
       "      <th>compactness_worst</th>\n",
       "      <th>concavity_worst</th>\n",
       "      <th>concave points_worst</th>\n",
       "      <th>symmetry_worst</th>\n",
       "      <th>fractal_dimension_worst</th>\n",
       "      <th>Unnamed: 32</th>\n",
       "    </tr>\n",
       "  </thead>\n",
       "  <tbody>\n",
       "    <tr>\n",
       "      <th>0</th>\n",
       "      <td>842302</td>\n",
       "      <td>M</td>\n",
       "      <td>17.99</td>\n",
       "      <td>10.38</td>\n",
       "      <td>122.80</td>\n",
       "      <td>1001.0</td>\n",
       "      <td>0.11840</td>\n",
       "      <td>0.27760</td>\n",
       "      <td>0.30010</td>\n",
       "      <td>0.14710</td>\n",
       "      <td>...</td>\n",
       "      <td>17.33</td>\n",
       "      <td>184.60</td>\n",
       "      <td>2019.0</td>\n",
       "      <td>0.16220</td>\n",
       "      <td>0.66560</td>\n",
       "      <td>0.7119</td>\n",
       "      <td>0.2654</td>\n",
       "      <td>0.4601</td>\n",
       "      <td>0.11890</td>\n",
       "      <td>NaN</td>\n",
       "    </tr>\n",
       "    <tr>\n",
       "      <th>1</th>\n",
       "      <td>842517</td>\n",
       "      <td>M</td>\n",
       "      <td>20.57</td>\n",
       "      <td>17.77</td>\n",
       "      <td>132.90</td>\n",
       "      <td>1326.0</td>\n",
       "      <td>0.08474</td>\n",
       "      <td>0.07864</td>\n",
       "      <td>0.08690</td>\n",
       "      <td>0.07017</td>\n",
       "      <td>...</td>\n",
       "      <td>23.41</td>\n",
       "      <td>158.80</td>\n",
       "      <td>1956.0</td>\n",
       "      <td>0.12380</td>\n",
       "      <td>0.18660</td>\n",
       "      <td>0.2416</td>\n",
       "      <td>0.1860</td>\n",
       "      <td>0.2750</td>\n",
       "      <td>0.08902</td>\n",
       "      <td>NaN</td>\n",
       "    </tr>\n",
       "    <tr>\n",
       "      <th>2</th>\n",
       "      <td>84300903</td>\n",
       "      <td>M</td>\n",
       "      <td>19.69</td>\n",
       "      <td>21.25</td>\n",
       "      <td>130.00</td>\n",
       "      <td>1203.0</td>\n",
       "      <td>0.10960</td>\n",
       "      <td>0.15990</td>\n",
       "      <td>0.19740</td>\n",
       "      <td>0.12790</td>\n",
       "      <td>...</td>\n",
       "      <td>25.53</td>\n",
       "      <td>152.50</td>\n",
       "      <td>1709.0</td>\n",
       "      <td>0.14440</td>\n",
       "      <td>0.42450</td>\n",
       "      <td>0.4504</td>\n",
       "      <td>0.2430</td>\n",
       "      <td>0.3613</td>\n",
       "      <td>0.08758</td>\n",
       "      <td>NaN</td>\n",
       "    </tr>\n",
       "    <tr>\n",
       "      <th>3</th>\n",
       "      <td>84348301</td>\n",
       "      <td>M</td>\n",
       "      <td>11.42</td>\n",
       "      <td>20.38</td>\n",
       "      <td>77.58</td>\n",
       "      <td>386.1</td>\n",
       "      <td>0.14250</td>\n",
       "      <td>0.28390</td>\n",
       "      <td>0.24140</td>\n",
       "      <td>0.10520</td>\n",
       "      <td>...</td>\n",
       "      <td>26.50</td>\n",
       "      <td>98.87</td>\n",
       "      <td>567.7</td>\n",
       "      <td>0.20980</td>\n",
       "      <td>0.86630</td>\n",
       "      <td>0.6869</td>\n",
       "      <td>0.2575</td>\n",
       "      <td>0.6638</td>\n",
       "      <td>0.17300</td>\n",
       "      <td>NaN</td>\n",
       "    </tr>\n",
       "    <tr>\n",
       "      <th>4</th>\n",
       "      <td>84358402</td>\n",
       "      <td>M</td>\n",
       "      <td>20.29</td>\n",
       "      <td>14.34</td>\n",
       "      <td>135.10</td>\n",
       "      <td>1297.0</td>\n",
       "      <td>0.10030</td>\n",
       "      <td>0.13280</td>\n",
       "      <td>0.19800</td>\n",
       "      <td>0.10430</td>\n",
       "      <td>...</td>\n",
       "      <td>16.67</td>\n",
       "      <td>152.20</td>\n",
       "      <td>1575.0</td>\n",
       "      <td>0.13740</td>\n",
       "      <td>0.20500</td>\n",
       "      <td>0.4000</td>\n",
       "      <td>0.1625</td>\n",
       "      <td>0.2364</td>\n",
       "      <td>0.07678</td>\n",
       "      <td>NaN</td>\n",
       "    </tr>\n",
       "    <tr>\n",
       "      <th>...</th>\n",
       "      <td>...</td>\n",
       "      <td>...</td>\n",
       "      <td>...</td>\n",
       "      <td>...</td>\n",
       "      <td>...</td>\n",
       "      <td>...</td>\n",
       "      <td>...</td>\n",
       "      <td>...</td>\n",
       "      <td>...</td>\n",
       "      <td>...</td>\n",
       "      <td>...</td>\n",
       "      <td>...</td>\n",
       "      <td>...</td>\n",
       "      <td>...</td>\n",
       "      <td>...</td>\n",
       "      <td>...</td>\n",
       "      <td>...</td>\n",
       "      <td>...</td>\n",
       "      <td>...</td>\n",
       "      <td>...</td>\n",
       "      <td>...</td>\n",
       "    </tr>\n",
       "    <tr>\n",
       "      <th>564</th>\n",
       "      <td>926424</td>\n",
       "      <td>M</td>\n",
       "      <td>21.56</td>\n",
       "      <td>22.39</td>\n",
       "      <td>142.00</td>\n",
       "      <td>1479.0</td>\n",
       "      <td>0.11100</td>\n",
       "      <td>0.11590</td>\n",
       "      <td>0.24390</td>\n",
       "      <td>0.13890</td>\n",
       "      <td>...</td>\n",
       "      <td>26.40</td>\n",
       "      <td>166.10</td>\n",
       "      <td>2027.0</td>\n",
       "      <td>0.14100</td>\n",
       "      <td>0.21130</td>\n",
       "      <td>0.4107</td>\n",
       "      <td>0.2216</td>\n",
       "      <td>0.2060</td>\n",
       "      <td>0.07115</td>\n",
       "      <td>NaN</td>\n",
       "    </tr>\n",
       "    <tr>\n",
       "      <th>565</th>\n",
       "      <td>926682</td>\n",
       "      <td>M</td>\n",
       "      <td>20.13</td>\n",
       "      <td>28.25</td>\n",
       "      <td>131.20</td>\n",
       "      <td>1261.0</td>\n",
       "      <td>0.09780</td>\n",
       "      <td>0.10340</td>\n",
       "      <td>0.14400</td>\n",
       "      <td>0.09791</td>\n",
       "      <td>...</td>\n",
       "      <td>38.25</td>\n",
       "      <td>155.00</td>\n",
       "      <td>1731.0</td>\n",
       "      <td>0.11660</td>\n",
       "      <td>0.19220</td>\n",
       "      <td>0.3215</td>\n",
       "      <td>0.1628</td>\n",
       "      <td>0.2572</td>\n",
       "      <td>0.06637</td>\n",
       "      <td>NaN</td>\n",
       "    </tr>\n",
       "    <tr>\n",
       "      <th>566</th>\n",
       "      <td>926954</td>\n",
       "      <td>M</td>\n",
       "      <td>16.60</td>\n",
       "      <td>28.08</td>\n",
       "      <td>108.30</td>\n",
       "      <td>858.1</td>\n",
       "      <td>0.08455</td>\n",
       "      <td>0.10230</td>\n",
       "      <td>0.09251</td>\n",
       "      <td>0.05302</td>\n",
       "      <td>...</td>\n",
       "      <td>34.12</td>\n",
       "      <td>126.70</td>\n",
       "      <td>1124.0</td>\n",
       "      <td>0.11390</td>\n",
       "      <td>0.30940</td>\n",
       "      <td>0.3403</td>\n",
       "      <td>0.1418</td>\n",
       "      <td>0.2218</td>\n",
       "      <td>0.07820</td>\n",
       "      <td>NaN</td>\n",
       "    </tr>\n",
       "    <tr>\n",
       "      <th>567</th>\n",
       "      <td>927241</td>\n",
       "      <td>M</td>\n",
       "      <td>20.60</td>\n",
       "      <td>29.33</td>\n",
       "      <td>140.10</td>\n",
       "      <td>1265.0</td>\n",
       "      <td>0.11780</td>\n",
       "      <td>0.27700</td>\n",
       "      <td>0.35140</td>\n",
       "      <td>0.15200</td>\n",
       "      <td>...</td>\n",
       "      <td>39.42</td>\n",
       "      <td>184.60</td>\n",
       "      <td>1821.0</td>\n",
       "      <td>0.16500</td>\n",
       "      <td>0.86810</td>\n",
       "      <td>0.9387</td>\n",
       "      <td>0.2650</td>\n",
       "      <td>0.4087</td>\n",
       "      <td>0.12400</td>\n",
       "      <td>NaN</td>\n",
       "    </tr>\n",
       "    <tr>\n",
       "      <th>568</th>\n",
       "      <td>92751</td>\n",
       "      <td>B</td>\n",
       "      <td>7.76</td>\n",
       "      <td>24.54</td>\n",
       "      <td>47.92</td>\n",
       "      <td>181.0</td>\n",
       "      <td>0.05263</td>\n",
       "      <td>0.04362</td>\n",
       "      <td>0.00000</td>\n",
       "      <td>0.00000</td>\n",
       "      <td>...</td>\n",
       "      <td>30.37</td>\n",
       "      <td>59.16</td>\n",
       "      <td>268.6</td>\n",
       "      <td>0.08996</td>\n",
       "      <td>0.06444</td>\n",
       "      <td>0.0000</td>\n",
       "      <td>0.0000</td>\n",
       "      <td>0.2871</td>\n",
       "      <td>0.07039</td>\n",
       "      <td>NaN</td>\n",
       "    </tr>\n",
       "  </tbody>\n",
       "</table>\n",
       "<p>569 rows × 33 columns</p>\n",
       "</div>"
      ],
      "text/plain": [
       "           id diagnosis  radius_mean  texture_mean  perimeter_mean  area_mean  \\\n",
       "0      842302         M        17.99         10.38          122.80     1001.0   \n",
       "1      842517         M        20.57         17.77          132.90     1326.0   \n",
       "2    84300903         M        19.69         21.25          130.00     1203.0   \n",
       "3    84348301         M        11.42         20.38           77.58      386.1   \n",
       "4    84358402         M        20.29         14.34          135.10     1297.0   \n",
       "..        ...       ...          ...           ...             ...        ...   \n",
       "564    926424         M        21.56         22.39          142.00     1479.0   \n",
       "565    926682         M        20.13         28.25          131.20     1261.0   \n",
       "566    926954         M        16.60         28.08          108.30      858.1   \n",
       "567    927241         M        20.60         29.33          140.10     1265.0   \n",
       "568     92751         B         7.76         24.54           47.92      181.0   \n",
       "\n",
       "     smoothness_mean  compactness_mean  concavity_mean  concave points_mean  \\\n",
       "0            0.11840           0.27760         0.30010              0.14710   \n",
       "1            0.08474           0.07864         0.08690              0.07017   \n",
       "2            0.10960           0.15990         0.19740              0.12790   \n",
       "3            0.14250           0.28390         0.24140              0.10520   \n",
       "4            0.10030           0.13280         0.19800              0.10430   \n",
       "..               ...               ...             ...                  ...   \n",
       "564          0.11100           0.11590         0.24390              0.13890   \n",
       "565          0.09780           0.10340         0.14400              0.09791   \n",
       "566          0.08455           0.10230         0.09251              0.05302   \n",
       "567          0.11780           0.27700         0.35140              0.15200   \n",
       "568          0.05263           0.04362         0.00000              0.00000   \n",
       "\n",
       "     ...  texture_worst  perimeter_worst  area_worst  smoothness_worst  \\\n",
       "0    ...          17.33           184.60      2019.0           0.16220   \n",
       "1    ...          23.41           158.80      1956.0           0.12380   \n",
       "2    ...          25.53           152.50      1709.0           0.14440   \n",
       "3    ...          26.50            98.87       567.7           0.20980   \n",
       "4    ...          16.67           152.20      1575.0           0.13740   \n",
       "..   ...            ...              ...         ...               ...   \n",
       "564  ...          26.40           166.10      2027.0           0.14100   \n",
       "565  ...          38.25           155.00      1731.0           0.11660   \n",
       "566  ...          34.12           126.70      1124.0           0.11390   \n",
       "567  ...          39.42           184.60      1821.0           0.16500   \n",
       "568  ...          30.37            59.16       268.6           0.08996   \n",
       "\n",
       "     compactness_worst  concavity_worst  concave points_worst  symmetry_worst  \\\n",
       "0              0.66560           0.7119                0.2654          0.4601   \n",
       "1              0.18660           0.2416                0.1860          0.2750   \n",
       "2              0.42450           0.4504                0.2430          0.3613   \n",
       "3              0.86630           0.6869                0.2575          0.6638   \n",
       "4              0.20500           0.4000                0.1625          0.2364   \n",
       "..                 ...              ...                   ...             ...   \n",
       "564            0.21130           0.4107                0.2216          0.2060   \n",
       "565            0.19220           0.3215                0.1628          0.2572   \n",
       "566            0.30940           0.3403                0.1418          0.2218   \n",
       "567            0.86810           0.9387                0.2650          0.4087   \n",
       "568            0.06444           0.0000                0.0000          0.2871   \n",
       "\n",
       "     fractal_dimension_worst  Unnamed: 32  \n",
       "0                    0.11890          NaN  \n",
       "1                    0.08902          NaN  \n",
       "2                    0.08758          NaN  \n",
       "3                    0.17300          NaN  \n",
       "4                    0.07678          NaN  \n",
       "..                       ...          ...  \n",
       "564                  0.07115          NaN  \n",
       "565                  0.06637          NaN  \n",
       "566                  0.07820          NaN  \n",
       "567                  0.12400          NaN  \n",
       "568                  0.07039          NaN  \n",
       "\n",
       "[569 rows x 33 columns]"
      ]
     },
     "execution_count": 3,
     "metadata": {},
     "output_type": "execute_result"
    }
   ],
   "source": [
    "df = pd.read_csv('../input/breast-cancer-wisconsin-data/data.csv')\n",
    "df"
   ]
  },
  {
   "cell_type": "code",
   "execution_count": 4,
   "id": "673f020e",
   "metadata": {
    "execution": {
     "iopub.execute_input": "2021-10-06T17:32:21.173879Z",
     "iopub.status.busy": "2021-10-06T17:32:21.168008Z",
     "iopub.status.idle": "2021-10-06T17:32:21.176545Z",
     "shell.execute_reply": "2021-10-06T17:32:21.176954Z",
     "shell.execute_reply.started": "2021-10-06T16:11:38.560432Z"
    },
    "papermill": {
     "duration": 0.049683,
     "end_time": "2021-10-06T17:32:21.177082",
     "exception": false,
     "start_time": "2021-10-06T17:32:21.127399",
     "status": "completed"
    },
    "tags": []
   },
   "outputs": [
    {
     "data": {
      "text/plain": [
       "B    357\n",
       "M    212\n",
       "Name: diagnosis, dtype: int64"
      ]
     },
     "execution_count": 4,
     "metadata": {},
     "output_type": "execute_result"
    }
   ],
   "source": [
    "df['diagnosis'].value_counts()"
   ]
  },
  {
   "cell_type": "code",
   "execution_count": 5,
   "id": "c8c3b32f",
   "metadata": {
    "execution": {
     "iopub.execute_input": "2021-10-06T17:32:21.254206Z",
     "iopub.status.busy": "2021-10-06T17:32:21.253378Z",
     "iopub.status.idle": "2021-10-06T17:32:21.269031Z",
     "shell.execute_reply": "2021-10-06T17:32:21.269516Z",
     "shell.execute_reply.started": "2021-10-06T16:11:42.769203Z"
    },
    "papermill": {
     "duration": 0.055817,
     "end_time": "2021-10-06T17:32:21.269653",
     "exception": false,
     "start_time": "2021-10-06T17:32:21.213836",
     "status": "completed"
    },
    "tags": []
   },
   "outputs": [
    {
     "name": "stdout",
     "output_type": "stream",
     "text": [
      "<class 'pandas.core.frame.DataFrame'>\n",
      "RangeIndex: 569 entries, 0 to 568\n",
      "Data columns (total 33 columns):\n",
      " #   Column                   Non-Null Count  Dtype  \n",
      "---  ------                   --------------  -----  \n",
      " 0   id                       569 non-null    int64  \n",
      " 1   diagnosis                569 non-null    object \n",
      " 2   radius_mean              569 non-null    float64\n",
      " 3   texture_mean             569 non-null    float64\n",
      " 4   perimeter_mean           569 non-null    float64\n",
      " 5   area_mean                569 non-null    float64\n",
      " 6   smoothness_mean          569 non-null    float64\n",
      " 7   compactness_mean         569 non-null    float64\n",
      " 8   concavity_mean           569 non-null    float64\n",
      " 9   concave points_mean      569 non-null    float64\n",
      " 10  symmetry_mean            569 non-null    float64\n",
      " 11  fractal_dimension_mean   569 non-null    float64\n",
      " 12  radius_se                569 non-null    float64\n",
      " 13  texture_se               569 non-null    float64\n",
      " 14  perimeter_se             569 non-null    float64\n",
      " 15  area_se                  569 non-null    float64\n",
      " 16  smoothness_se            569 non-null    float64\n",
      " 17  compactness_se           569 non-null    float64\n",
      " 18  concavity_se             569 non-null    float64\n",
      " 19  concave points_se        569 non-null    float64\n",
      " 20  symmetry_se              569 non-null    float64\n",
      " 21  fractal_dimension_se     569 non-null    float64\n",
      " 22  radius_worst             569 non-null    float64\n",
      " 23  texture_worst            569 non-null    float64\n",
      " 24  perimeter_worst          569 non-null    float64\n",
      " 25  area_worst               569 non-null    float64\n",
      " 26  smoothness_worst         569 non-null    float64\n",
      " 27  compactness_worst        569 non-null    float64\n",
      " 28  concavity_worst          569 non-null    float64\n",
      " 29  concave points_worst     569 non-null    float64\n",
      " 30  symmetry_worst           569 non-null    float64\n",
      " 31  fractal_dimension_worst  569 non-null    float64\n",
      " 32  Unnamed: 32              0 non-null      float64\n",
      "dtypes: float64(31), int64(1), object(1)\n",
      "memory usage: 146.8+ KB\n"
     ]
    }
   ],
   "source": [
    "df.info()"
   ]
  },
  {
   "cell_type": "markdown",
   "id": "53210e60",
   "metadata": {
    "papermill": {
     "duration": 0.037288,
     "end_time": "2021-10-06T17:32:21.347197",
     "exception": false,
     "start_time": "2021-10-06T17:32:21.309909",
     "status": "completed"
    },
    "tags": []
   },
   "source": [
    "# ****Visualize Value Counts****"
   ]
  },
  {
   "cell_type": "code",
   "execution_count": 6,
   "id": "fb113bf0",
   "metadata": {
    "execution": {
     "iopub.execute_input": "2021-10-06T17:32:21.432587Z",
     "iopub.status.busy": "2021-10-06T17:32:21.431723Z",
     "iopub.status.idle": "2021-10-06T17:32:21.624546Z",
     "shell.execute_reply": "2021-10-06T17:32:21.624093Z",
     "shell.execute_reply.started": "2021-10-06T16:11:49.288128Z"
    },
    "papermill": {
     "duration": 0.240576,
     "end_time": "2021-10-06T17:32:21.624666",
     "exception": false,
     "start_time": "2021-10-06T17:32:21.384090",
     "status": "completed"
    },
    "tags": []
   },
   "outputs": [
    {
     "data": {
      "image/png": "[encoded data removed]",
      "text/plain": [
       "<Figure size 1224x648 with 1 Axes>"
      ]
     },
     "metadata": {
      "needs_background": "light"
     },
     "output_type": "display_data"
    }
   ],
   "source": [
    "plt.figure(figsize=[17,9])\n",
    "sb.countplot(df['diagnosis'].value_counts())\n",
    "plt.show()"
   ]
  },
  {
   "cell_type": "markdown",
   "id": "dfe5b27d",
   "metadata": {
    "papermill": {
     "duration": 0.051854,
     "end_time": "2021-10-06T17:32:21.714229",
     "exception": false,
     "start_time": "2021-10-06T17:32:21.662375",
     "status": "completed"
    },
    "tags": []
   },
   "source": [
    "# ****Null values****"
   ]
  },
  {
   "cell_type": "code",
   "execution_count": 7,
   "id": "792e140d",
   "metadata": {
    "execution": {
     "iopub.execute_input": "2021-10-06T17:32:21.817000Z",
     "iopub.status.busy": "2021-10-06T17:32:21.814063Z",
     "iopub.status.idle": "2021-10-06T17:32:21.820407Z",
     "shell.execute_reply": "2021-10-06T17:32:21.819889Z",
     "shell.execute_reply.started": "2021-10-06T16:11:59.112069Z"
    },
    "papermill": {
     "duration": 0.05069,
     "end_time": "2021-10-06T17:32:21.820532",
     "exception": false,
     "start_time": "2021-10-06T17:32:21.769842",
     "status": "completed"
    },
    "tags": []
   },
   "outputs": [
    {
     "data": {
      "text/plain": [
       "id                           0\n",
       "diagnosis                    0\n",
       "radius_mean                  0\n",
       "texture_mean                 0\n",
       "perimeter_mean               0\n",
       "area_mean                    0\n",
       "smoothness_mean              0\n",
       "compactness_mean             0\n",
       "concavity_mean               0\n",
       "concave points_mean          0\n",
       "symmetry_mean                0\n",
       "fractal_dimension_mean       0\n",
       "radius_se                    0\n",
       "texture_se                   0\n",
       "perimeter_se                 0\n",
       "area_se                      0\n",
       "smoothness_se                0\n",
       "compactness_se               0\n",
       "concavity_se                 0\n",
       "concave points_se            0\n",
       "symmetry_se                  0\n",
       "fractal_dimension_se         0\n",
       "radius_worst                 0\n",
       "texture_worst                0\n",
       "perimeter_worst              0\n",
       "area_worst                   0\n",
       "smoothness_worst             0\n",
       "compactness_worst            0\n",
       "concavity_worst              0\n",
       "concave points_worst         0\n",
       "symmetry_worst               0\n",
       "fractal_dimension_worst      0\n",
       "Unnamed: 32                569\n",
       "dtype: int64"
      ]
     },
     "execution_count": 7,
     "metadata": {},
     "output_type": "execute_result"
    }
   ],
   "source": [
    "df.isnull().sum()"
   ]
  },
  {
   "cell_type": "markdown",
   "id": "8363aa5b",
   "metadata": {
    "papermill": {
     "duration": 0.039171,
     "end_time": "2021-10-06T17:32:21.898893",
     "exception": false,
     "start_time": "2021-10-06T17:32:21.859722",
     "status": "completed"
    },
    "tags": []
   },
   "source": [
    "After executing the program we reach the conclusion that the feature name ‘Unnamed:32’ contains all the null values so we delete or drop that column."
   ]
  },
  {
   "cell_type": "code",
   "execution_count": 8,
   "id": "0016de2a",
   "metadata": {
    "execution": {
     "iopub.execute_input": "2021-10-06T17:32:21.982370Z",
     "iopub.status.busy": "2021-10-06T17:32:21.981571Z",
     "iopub.status.idle": "2021-10-06T17:32:21.983668Z",
     "shell.execute_reply": "2021-10-06T17:32:21.984061Z",
     "shell.execute_reply.started": "2021-10-06T16:12:08.123941Z"
    },
    "papermill": {
     "duration": 0.046304,
     "end_time": "2021-10-06T17:32:21.984204",
     "exception": false,
     "start_time": "2021-10-06T17:32:21.937900",
     "status": "completed"
    },
    "tags": []
   },
   "outputs": [],
   "source": [
    "df.drop(['Unnamed: 32','id'],axis=1,inplace=True)"
   ]
  },
  {
   "cell_type": "markdown",
   "id": "97b7c0a8",
   "metadata": {
    "papermill": {
     "duration": 0.058342,
     "end_time": "2021-10-06T17:32:22.098658",
     "exception": false,
     "start_time": "2021-10-06T17:32:22.040316",
     "status": "completed"
    },
    "tags": []
   },
   "source": [
    "# ****Independent and Dependent Variables****"
   ]
  },
  {
   "cell_type": "code",
   "execution_count": 9,
   "id": "f3166a0f",
   "metadata": {
    "execution": {
     "iopub.execute_input": "2021-10-06T17:32:22.190410Z",
     "iopub.status.busy": "2021-10-06T17:32:22.189548Z",
     "iopub.status.idle": "2021-10-06T17:32:22.191421Z",
     "shell.execute_reply": "2021-10-06T17:32:22.191829Z",
     "shell.execute_reply.started": "2021-10-06T16:12:33.701959Z"
    },
    "papermill": {
     "duration": 0.046375,
     "end_time": "2021-10-06T17:32:22.191960",
     "exception": false,
     "start_time": "2021-10-06T17:32:22.145585",
     "status": "completed"
    },
    "tags": []
   },
   "outputs": [],
   "source": [
    "# independent variables\n",
    "x = df.drop('diagnosis',axis=1)\n",
    "#dependent variables\n",
    "y = df.diagnosis"
   ]
  },
  {
   "cell_type": "code",
   "execution_count": 10,
   "id": "8884191e",
   "metadata": {
    "execution": {
     "iopub.execute_input": "2021-10-06T17:32:22.272216Z",
     "iopub.status.busy": "2021-10-06T17:32:22.271562Z",
     "iopub.status.idle": "2021-10-06T17:32:22.374809Z",
     "shell.execute_reply": "2021-10-06T17:32:22.375607Z",
     "shell.execute_reply.started": "2021-10-06T16:12:42.169244Z"
    },
    "papermill": {
     "duration": 0.14595,
     "end_time": "2021-10-06T17:32:22.375857",
     "exception": false,
     "start_time": "2021-10-06T17:32:22.229907",
     "status": "completed"
    },
    "tags": []
   },
   "outputs": [],
   "source": [
    "from sklearn.preprocessing import LabelEncoder\n",
    "#creating the object\n",
    "lb = LabelEncoder()\n",
    "y = lb.fit_transform(y)"
   ]
  },
  {
   "cell_type": "markdown",
   "id": "fef4c32b",
   "metadata": {
    "papermill": {
     "duration": 0.044345,
     "end_time": "2021-10-06T17:32:22.488156",
     "exception": false,
     "start_time": "2021-10-06T17:32:22.443811",
     "status": "completed"
    },
    "tags": []
   },
   "source": [
    "# ****Splitting Data (train-test-validation-set)****"
   ]
  },
  {
   "cell_type": "code",
   "execution_count": 11,
   "id": "368f6efb",
   "metadata": {
    "execution": {
     "iopub.execute_input": "2021-10-06T17:32:22.570623Z",
     "iopub.status.busy": "2021-10-06T17:32:22.569892Z",
     "iopub.status.idle": "2021-10-06T17:32:22.692497Z",
     "shell.execute_reply": "2021-10-06T17:32:22.691991Z",
     "shell.execute_reply.started": "2021-10-06T16:12:49.857485Z"
    },
    "papermill": {
     "duration": 0.166069,
     "end_time": "2021-10-06T17:32:22.692625",
     "exception": false,
     "start_time": "2021-10-06T17:32:22.526556",
     "status": "completed"
    },
    "tags": []
   },
   "outputs": [
    {
     "name": "stdout",
     "output_type": "stream",
     "text": [
      "     radius_mean  texture_mean  perimeter_mean  area_mean  smoothness_mean  \\\n",
      "267        13.59         21.84           87.16      561.0          0.07956   \n",
      "450        11.87         21.54           76.83      432.0          0.06613   \n",
      "166        10.80          9.71           68.77      357.6          0.09594   \n",
      "191        12.77         21.41           82.02      507.4          0.08749   \n",
      "182        15.70         20.31          101.20      766.6          0.09597   \n",
      "..           ...           ...             ...        ...              ...   \n",
      "271        11.29         13.04           72.23      388.0          0.09834   \n",
      "148        14.44         15.18           93.97      640.1          0.09970   \n",
      "276        11.33         14.16           71.79      396.6          0.09379   \n",
      "299        10.51         23.09           66.85      334.2          0.10150   \n",
      "211        11.84         18.94           75.51      428.0          0.08871   \n",
      "\n",
      "     compactness_mean  concavity_mean  concave points_mean  symmetry_mean  \\\n",
      "267           0.08259        0.040720             0.021420         0.1635   \n",
      "450           0.10640        0.087770             0.023860         0.1349   \n",
      "166           0.05736        0.025310             0.016980         0.1381   \n",
      "191           0.06601        0.031120             0.028640         0.1694   \n",
      "182           0.08799        0.065930             0.051890         0.1618   \n",
      "..                ...             ...                  ...            ...   \n",
      "271           0.07608        0.032650             0.027550         0.1769   \n",
      "148           0.10210        0.084870             0.055320         0.1724   \n",
      "276           0.03872        0.001487             0.003333         0.1954   \n",
      "299           0.06797        0.024950             0.018750         0.1695   \n",
      "211           0.06900        0.026690             0.013930         0.1533   \n",
      "\n",
      "     fractal_dimension_mean  ...  radius_worst  texture_worst  \\\n",
      "267                 0.05859  ...         14.80          30.04   \n",
      "450                 0.06612  ...         12.79          28.18   \n",
      "166                 0.06400  ...         11.60          12.02   \n",
      "191                 0.06287  ...         13.75          23.50   \n",
      "182                 0.05549  ...         20.11          32.82   \n",
      "..                      ...  ...           ...            ...   \n",
      "271                 0.06270  ...         12.32          16.18   \n",
      "148                 0.06081  ...         15.85          19.85   \n",
      "276                 0.05821  ...         12.20          18.99   \n",
      "299                 0.06556  ...         10.93          24.22   \n",
      "211                 0.06057  ...         13.30          24.99   \n",
      "\n",
      "     perimeter_worst  area_worst  smoothness_worst  compactness_worst  \\\n",
      "267            97.66       661.5           0.10050            0.17300   \n",
      "450            83.51       507.2           0.09457            0.33990   \n",
      "166            73.66       414.0           0.14360            0.12570   \n",
      "191            89.04       579.5           0.09388            0.08978   \n",
      "182           129.30      1269.0           0.14140            0.35470   \n",
      "..               ...         ...               ...                ...   \n",
      "271            78.27       457.5           0.13580            0.15070   \n",
      "148           108.60       766.9           0.13160            0.27350   \n",
      "276            77.37       458.0           0.12590            0.07348   \n",
      "299            70.10       362.7           0.11430            0.08614   \n",
      "211            85.22       546.3           0.12800            0.18800   \n",
      "\n",
      "     concavity_worst  concave points_worst  symmetry_worst  \\\n",
      "267         0.145300               0.06189          0.2446   \n",
      "450         0.321800               0.08750          0.2305   \n",
      "166         0.104700               0.04603          0.2090   \n",
      "191         0.051860               0.04773          0.2179   \n",
      "182         0.290200               0.15410          0.3437   \n",
      "..               ...                   ...             ...   \n",
      "271         0.127500               0.08750          0.2733   \n",
      "148         0.310300               0.15990          0.2691   \n",
      "276         0.004955               0.01111          0.2758   \n",
      "299         0.041580               0.03125          0.2227   \n",
      "211         0.147100               0.06913          0.2535   \n",
      "\n",
      "     fractal_dimension_worst  \n",
      "267                  0.07024  \n",
      "450                  0.09952  \n",
      "166                  0.07699  \n",
      "191                  0.06871  \n",
      "182                  0.08631  \n",
      "..                       ...  \n",
      "271                  0.08022  \n",
      "148                  0.07683  \n",
      "276                  0.06386  \n",
      "299                  0.06777  \n",
      "211                  0.07993  \n",
      "\n",
      "[426 rows x 30 columns]      radius_mean  texture_mean  perimeter_mean  area_mean  smoothness_mean  \\\n",
      "478       11.490         14.59           73.99      404.9          0.10460   \n",
      "199       14.450         20.22           94.49      642.7          0.09872   \n",
      "269       10.710         20.39           69.50      344.9          0.10820   \n",
      "26        14.580         21.53           97.41      644.8          0.10540   \n",
      "401       11.930         10.91           76.14      442.7          0.08872   \n",
      "..           ...           ...             ...        ...              ...   \n",
      "379       11.080         18.83           73.30      361.6          0.12160   \n",
      "489       16.690         20.20          107.10      857.6          0.07497   \n",
      "273        9.742         15.67           61.50      289.9          0.09037   \n",
      "100       13.610         24.98           88.05      582.7          0.09488   \n",
      "444       18.030         16.85          117.50      990.0          0.08947   \n",
      "\n",
      "     compactness_mean  concavity_mean  concave points_mean  symmetry_mean  \\\n",
      "478           0.08228         0.05308              0.01969         0.1779   \n",
      "199           0.12060         0.11800              0.05980         0.1950   \n",
      "269           0.12890         0.08448              0.02867         0.1668   \n",
      "26            0.18680         0.14250              0.08783         0.2252   \n",
      "401           0.05242         0.02606              0.01796         0.1601   \n",
      "..                ...             ...                  ...            ...   \n",
      "379           0.21540         0.16890              0.06367         0.2196   \n",
      "489           0.07112         0.03649              0.02307         0.1846   \n",
      "273           0.04689         0.01103              0.01407         0.2081   \n",
      "100           0.08511         0.08625              0.04489         0.1609   \n",
      "444           0.12320         0.10900              0.06254         0.1720   \n",
      "\n",
      "     fractal_dimension_mean  ...  radius_worst  texture_worst  \\\n",
      "478                 0.06574  ...         12.40          21.90   \n",
      "199                 0.06466  ...         18.33          30.12   \n",
      "269                 0.06862  ...         11.69          25.21   \n",
      "26                  0.06924  ...         17.62          33.21   \n",
      "401                 0.05541  ...         13.80          20.14   \n",
      "..                      ...  ...           ...            ...   \n",
      "379                 0.07950  ...         13.24          32.82   \n",
      "489                 0.05325  ...         19.18          26.56   \n",
      "273                 0.06312  ...         10.75          20.88   \n",
      "100                 0.05871  ...         16.99          35.27   \n",
      "444                 0.05780  ...         20.38          22.02   \n",
      "\n",
      "     perimeter_worst  area_worst  smoothness_worst  compactness_worst  \\\n",
      "478            82.04       467.6            0.1352             0.2010   \n",
      "199           117.90      1044.0            0.1552             0.4056   \n",
      "269            76.51       410.4            0.1335             0.2550   \n",
      "26            122.40       896.9            0.1525             0.6643   \n",
      "401            87.64       589.5            0.1374             0.1575   \n",
      "..               ...         ...               ...                ...   \n",
      "379            91.76       508.1            0.2184             0.9379   \n",
      "489           127.30      1084.0            0.1009             0.2920   \n",
      "273            68.09       355.2            0.1467             0.0937   \n",
      "100           108.60       906.5            0.1265             0.1943   \n",
      "444           133.30      1292.0            0.1263             0.2666   \n",
      "\n",
      "     concavity_worst  concave points_worst  symmetry_worst  \\\n",
      "478          0.25960               0.07431          0.2941   \n",
      "199          0.49670               0.18380          0.4753   \n",
      "269          0.25340               0.08600          0.2605   \n",
      "26           0.55390               0.27010          0.4264   \n",
      "401          0.15140               0.06876          0.2460   \n",
      "..               ...                   ...             ...   \n",
      "379          0.84020               0.25240          0.4154   \n",
      "489          0.24770               0.08737          0.4677   \n",
      "273          0.04043               0.05159          0.2841   \n",
      "100          0.31690               0.11840          0.2651   \n",
      "444          0.42900               0.15350          0.2842   \n",
      "\n",
      "     fractal_dimension_worst  \n",
      "478                  0.09180  \n",
      "199                  0.10130  \n",
      "269                  0.08701  \n",
      "26                   0.12750  \n",
      "401                  0.07262  \n",
      "..                       ...  \n",
      "379                  0.14030  \n",
      "489                  0.07623  \n",
      "273                  0.08175  \n",
      "100                  0.07397  \n",
      "444                  0.08225  \n",
      "\n",
      "[85 rows x 30 columns]      radius_mean  texture_mean  perimeter_mean  area_mean  smoothness_mean  \\\n",
      "552       12.770         29.43           81.35      507.9          0.08276   \n",
      "283       16.240         18.77          108.80      805.1          0.10660   \n",
      "530       11.750         17.56           75.89      422.9          0.10730   \n",
      "454       12.620         17.15           80.62      492.9          0.08583   \n",
      "295       13.770         13.27           88.06      582.7          0.09198   \n",
      "6         18.250         19.98          119.60     1040.0          0.09463   \n",
      "566       16.600         28.08          108.30      858.1          0.08455   \n",
      "272       21.750         20.99          147.30     1491.0          0.09401   \n",
      "534       10.960         17.62           70.79      365.6          0.09687   \n",
      "339       23.510         24.27          155.10     1747.0          0.10690   \n",
      "186       18.310         18.58          118.60     1041.0          0.08588   \n",
      "318        9.042         18.90           60.07      244.5          0.09968   \n",
      "213       17.420         25.56          114.50      948.0          0.10060   \n",
      "27        18.610         20.25          122.10     1094.0          0.09440   \n",
      "414       15.130         29.81           96.71      719.5          0.08320   \n",
      "382       12.050         22.72           78.75      447.8          0.06935   \n",
      "280       19.160         26.60          126.20     1138.0          0.10200   \n",
      "385       14.600         23.29           93.97      664.7          0.08682   \n",
      "86        14.480         21.46           94.25      648.2          0.09444   \n",
      "237       20.480         21.46          132.50     1306.0          0.08355   \n",
      "376       10.570         20.22           70.15      338.3          0.09073   \n",
      "31        11.840         18.70           77.93      440.6          0.11090   \n",
      "445       11.990         24.89           77.61      441.3          0.10300   \n",
      "248       10.650         25.22           68.01      347.0          0.09657   \n",
      "18        19.810         22.15          130.00     1260.0          0.09831   \n",
      "408       17.990         20.66          117.80      991.7          0.10360   \n",
      "350       11.660         17.07           73.70      421.0          0.07561   \n",
      "170       12.320         12.39           78.85      464.1          0.10280   \n",
      "212       28.110         18.47          188.50     2499.0          0.11420   \n",
      "533       20.470         20.67          134.70     1299.0          0.09156   \n",
      "463       11.600         18.36           73.88      412.7          0.08508   \n",
      "437       14.040         15.98           89.78      611.2          0.08458   \n",
      "558       14.590         22.68           96.39      657.1          0.08473   \n",
      "356       13.050         18.59           85.09      512.0          0.10820   \n",
      "53        18.220         18.70          120.30     1033.0          0.11480   \n",
      "22        15.340         14.26          102.50      704.4          0.10730   \n",
      "56        19.210         18.57          125.50     1152.0          0.10530   \n",
      "386       12.210         14.09           78.78      462.0          0.08108   \n",
      "287       12.890         13.12           81.89      515.9          0.06955   \n",
      "564       21.560         22.39          142.00     1479.0          0.11100   \n",
      "485       12.450         16.41           82.85      476.7          0.09514   \n",
      "346       12.060         18.90           76.66      445.3          0.08386   \n",
      "312       12.760         13.37           82.29      504.1          0.08794   \n",
      "190       14.220         23.12           94.37      609.9          0.10750   \n",
      "184       15.280         22.41           98.92      710.6          0.09057   \n",
      "491       17.850         13.23          114.60      992.1          0.07838   \n",
      "526       13.460         18.75           87.44      551.1          0.10750   \n",
      "378       13.660         15.15           88.27      580.6          0.08268   \n",
      "353       15.080         25.74           98.00      716.6          0.10240   \n",
      "515       11.340         18.61           72.76      391.2          0.10490   \n",
      "55        11.520         18.75           73.34      409.0          0.09524   \n",
      "404       12.340         14.95           78.29      469.1          0.08682   \n",
      "33        19.270         26.47          127.90     1162.0          0.09401   \n",
      "10        16.020         23.24          102.70      797.8          0.08206   \n",
      "257       15.320         17.27          103.20      713.3          0.13350   \n",
      "173       11.080         14.71           70.21      372.7          0.10060   \n",
      "196       13.770         22.29           90.63      588.9          0.12000   \n",
      "219       19.530         32.47          128.00     1223.0          0.08420   \n",
      "\n",
      "     compactness_mean  concavity_mean  concave points_mean  symmetry_mean  \\\n",
      "552           0.04234        0.019970             0.014990         0.1539   \n",
      "283           0.18020        0.194800             0.090520         0.1876   \n",
      "530           0.09713        0.052820             0.044400         0.1598   \n",
      "454           0.05430        0.029660             0.022720         0.1799   \n",
      "295           0.06221        0.010630             0.019170         0.1592   \n",
      "6             0.10900        0.112700             0.074000         0.1794   \n",
      "566           0.10230        0.092510             0.053020         0.1590   \n",
      "272           0.19610        0.219500             0.108800         0.1721   \n",
      "534           0.09752        0.052630             0.027880         0.1619   \n",
      "339           0.12830        0.230800             0.141000         0.1797   \n",
      "186           0.08468        0.081690             0.058140         0.1621   \n",
      "318           0.19720        0.197500             0.049080         0.2330   \n",
      "213           0.11460        0.168200             0.065970         0.1308   \n",
      "27            0.10660        0.149000             0.077310         0.1697   \n",
      "414           0.04605        0.046860             0.027390         0.1852   \n",
      "382           0.10730        0.079430             0.029780         0.1203   \n",
      "280           0.14530        0.192100             0.096640         0.1902   \n",
      "385           0.06636        0.083900             0.052710         0.1627   \n",
      "86            0.09947        0.120400             0.049380         0.2075   \n",
      "237           0.08348        0.090420             0.060220         0.1467   \n",
      "376           0.16600        0.228000             0.059410         0.2188   \n",
      "31            0.15160        0.121800             0.051820         0.2301   \n",
      "445           0.09218        0.054410             0.042740         0.1820   \n",
      "248           0.07234        0.023790             0.016150         0.1897   \n",
      "18            0.10270        0.147900             0.094980         0.1582   \n",
      "408           0.13040        0.120100             0.088240         0.1992   \n",
      "350           0.03630        0.008306             0.011620         0.1671   \n",
      "170           0.06981        0.039870             0.037000         0.1959   \n",
      "212           0.15160        0.320100             0.159500         0.1648   \n",
      "533           0.13130        0.152300             0.101500         0.2166   \n",
      "463           0.05855        0.033670             0.017770         0.1516   \n",
      "437           0.05895        0.035340             0.029440         0.1714   \n",
      "558           0.13300        0.102900             0.037360         0.1454   \n",
      "356           0.13040        0.096030             0.056030         0.2035   \n",
      "53            0.14850        0.177200             0.106000         0.2092   \n",
      "22            0.21350        0.207700             0.097560         0.2521   \n",
      "56            0.12670        0.132300             0.089940         0.1917   \n",
      "386           0.07823        0.068390             0.025340         0.1646   \n",
      "287           0.03729        0.022600             0.011710         0.1337   \n",
      "564           0.11590        0.243900             0.138900         0.1726   \n",
      "485           0.15110        0.154400             0.048460         0.2082   \n",
      "346           0.05794        0.007510             0.008488         0.1555   \n",
      "312           0.07948        0.040520             0.025480         0.1601   \n",
      "190           0.24130        0.198100             0.066180         0.2384   \n",
      "184           0.10520        0.053750             0.032630         0.1727   \n",
      "491           0.06217        0.044450             0.041780         0.1220   \n",
      "526           0.11380        0.042010             0.031520         0.1723   \n",
      "378           0.07548        0.042490             0.024710         0.1792   \n",
      "353           0.09769        0.123500             0.065530         0.1647   \n",
      "515           0.08499        0.043020             0.025940         0.1927   \n",
      "55            0.05473        0.030360             0.022780         0.1920   \n",
      "404           0.04571        0.021090             0.020540         0.1571   \n",
      "33            0.17190        0.165700             0.075930         0.1853   \n",
      "10            0.06669        0.032990             0.033230         0.1528   \n",
      "257           0.22840        0.244800             0.124200         0.2398   \n",
      "173           0.05743        0.023630             0.025830         0.1566   \n",
      "196           0.12670        0.138500             0.065260         0.1834   \n",
      "219           0.11300        0.114500             0.066370         0.1428   \n",
      "\n",
      "     fractal_dimension_mean  ...  radius_worst  texture_worst  \\\n",
      "552                 0.05637  ...         13.87          36.00   \n",
      "283                 0.06684  ...         18.55          25.09   \n",
      "530                 0.06677  ...         13.50          27.98   \n",
      "454                 0.05826  ...         14.34          22.15   \n",
      "295                 0.05912  ...         14.67          16.93   \n",
      "6                   0.05742  ...         22.88          27.66   \n",
      "566                 0.05648  ...         18.98          34.12   \n",
      "272                 0.06194  ...         28.19          28.18   \n",
      "534                 0.06408  ...         11.62          26.51   \n",
      "339                 0.05506  ...         30.67          30.73   \n",
      "186                 0.05425  ...         21.31          26.36   \n",
      "318                 0.08743  ...         10.06          23.40   \n",
      "213                 0.05866  ...         18.07          28.07   \n",
      "27                  0.05699  ...         21.31          27.26   \n",
      "414                 0.05294  ...         17.26          36.91   \n",
      "382                 0.06659  ...         12.57          28.71   \n",
      "280                 0.06220  ...         23.72          35.90   \n",
      "385                 0.05416  ...         15.79          31.71   \n",
      "86                  0.05636  ...         16.21          29.25   \n",
      "237                 0.05177  ...         24.22          26.17   \n",
      "376                 0.08450  ...         10.85          22.82   \n",
      "31                  0.07799  ...         16.82          28.12   \n",
      "445                 0.06850  ...         12.98          30.36   \n",
      "248                 0.06329  ...         12.25          35.19   \n",
      "18                  0.05395  ...         27.32          30.88   \n",
      "408                 0.06069  ...         21.08          25.41   \n",
      "350                 0.05731  ...         13.28          19.74   \n",
      "170                 0.05955  ...         13.50          15.64   \n",
      "212                 0.05525  ...         28.11          18.47   \n",
      "533                 0.05419  ...         23.23          27.15   \n",
      "463                 0.05859  ...         12.77          24.02   \n",
      "437                 0.05898  ...         15.66          21.58   \n",
      "558                 0.06147  ...         15.48          27.27   \n",
      "356                 0.06501  ...         14.19          24.85   \n",
      "53                  0.06310  ...         20.60          24.13   \n",
      "22                  0.07032  ...         18.07          19.08   \n",
      "56                  0.05961  ...         26.14          28.14   \n",
      "386                 0.06154  ...         13.13          19.29   \n",
      "287                 0.05581  ...         13.62          15.54   \n",
      "564                 0.05623  ...         25.45          26.40   \n",
      "485                 0.07325  ...         13.78          21.03   \n",
      "346                 0.06048  ...         13.64          27.06   \n",
      "312                 0.06140  ...         14.19          16.40   \n",
      "190                 0.07542  ...         15.74          37.18   \n",
      "184                 0.06317  ...         17.80          28.03   \n",
      "491                 0.05243  ...         19.82          18.42   \n",
      "526                 0.06317  ...         15.35          25.16   \n",
      "378                 0.05897  ...         14.54          19.64   \n",
      "353                 0.06464  ...         18.51          33.22   \n",
      "515                 0.06211  ...         12.47          23.03   \n",
      "55                  0.05907  ...         12.84          22.47   \n",
      "404                 0.05708  ...         13.18          16.85   \n",
      "33                  0.06261  ...         24.15          30.90   \n",
      "10                  0.05697  ...         19.19          33.88   \n",
      "257                 0.07596  ...         17.73          22.66   \n",
      "173                 0.06669  ...         11.35          16.82   \n",
      "196                 0.06877  ...         16.39          34.01   \n",
      "219                 0.05313  ...         27.90          45.41   \n",
      "\n",
      "     perimeter_worst  area_worst  smoothness_worst  compactness_worst  \\\n",
      "552            88.10       594.7           0.12340            0.10640   \n",
      "283           126.90      1031.0           0.13650            0.47060   \n",
      "530            88.52       552.3           0.13490            0.18540   \n",
      "454            91.62       633.5           0.12250            0.15170   \n",
      "295            94.17       661.1           0.11700            0.10720   \n",
      "6             153.20      1606.0           0.14420            0.25760   \n",
      "566           126.70      1124.0           0.11390            0.30940   \n",
      "272           195.90      2384.0           0.12720            0.47250   \n",
      "534            76.43       407.5           0.14280            0.25100   \n",
      "339           202.40      2906.0           0.15150            0.26780   \n",
      "186           139.20      1410.0           0.12340            0.24450   \n",
      "318            68.62       297.1           0.12210            0.37480   \n",
      "213           120.40      1021.0           0.12430            0.17930   \n",
      "27            139.90      1403.0           0.13380            0.21170   \n",
      "414           110.10       931.4           0.11480            0.09866   \n",
      "382            87.36       488.4           0.08799            0.32140   \n",
      "280           159.80      1724.0           0.17820            0.38410   \n",
      "385           102.20       758.2           0.13120            0.15810   \n",
      "86            108.40       808.9           0.13060            0.19760   \n",
      "237           161.70      1750.0           0.12280            0.23110   \n",
      "376            76.51       351.9           0.11430            0.36190   \n",
      "31            119.40       888.7           0.16370            0.57750   \n",
      "445            84.48       513.9           0.13110            0.18220   \n",
      "248            77.98       455.7           0.14990            0.13980   \n",
      "18            186.80      2398.0           0.15120            0.31500   \n",
      "408           138.10      1349.0           0.14820            0.37350   \n",
      "350            83.61       542.5           0.09958            0.06476   \n",
      "170            86.97       549.1           0.13850            0.12660   \n",
      "212           188.50      2499.0           0.11420            0.15160   \n",
      "533           152.00      1645.0           0.10970            0.25340   \n",
      "463            82.68       495.1           0.13420            0.18080   \n",
      "437           101.20       750.0           0.11950            0.12520   \n",
      "558           105.90       733.5           0.10260            0.31710   \n",
      "356            94.22       591.2           0.13430            0.26580   \n",
      "53            135.10      1321.0           0.12800            0.22970   \n",
      "22            125.10       980.9           0.13900            0.59540   \n",
      "56            170.10      2145.0           0.16240            0.35110   \n",
      "386            87.65       529.9           0.10260            0.24310   \n",
      "287            87.40       577.0           0.09616            0.11470   \n",
      "564           166.10      2027.0           0.14100            0.21130   \n",
      "485            97.82       580.6           0.11750            0.40610   \n",
      "346            86.54       562.6           0.12890            0.13520   \n",
      "312            92.04       618.8           0.11940            0.22080   \n",
      "190           106.40       762.4           0.15330            0.93270   \n",
      "184           113.80       973.1           0.13010            0.32990   \n",
      "491           127.10      1210.0           0.09862            0.09976   \n",
      "526           101.90       719.8           0.16240            0.31240   \n",
      "378            97.96       657.0           0.12750            0.31040   \n",
      "353           121.20      1050.0           0.16600            0.23560   \n",
      "515            79.15       478.6           0.14830            0.15740   \n",
      "55             81.81       506.2           0.12490            0.08720   \n",
      "404            84.11       533.1           0.10480            0.06744   \n",
      "33            161.40      1813.0           0.15090            0.65900   \n",
      "10            123.80      1150.0           0.11810            0.15510   \n",
      "257           119.80       928.8           0.17650            0.45030   \n",
      "173            72.01       396.5           0.12160            0.08240   \n",
      "196           111.60       806.9           0.17370            0.31220   \n",
      "219           180.20      2477.0           0.14080            0.40970   \n",
      "\n",
      "     concavity_worst  concave points_worst  symmetry_worst  \\\n",
      "552          0.08653               0.06498          0.2407   \n",
      "283          0.50260               0.17320          0.2770   \n",
      "530          0.13660               0.10100          0.2478   \n",
      "454          0.18870               0.09851          0.3270   \n",
      "295          0.03732               0.05802          0.2823   \n",
      "6            0.37840               0.19320          0.3063   \n",
      "566          0.34030               0.14180          0.2218   \n",
      "272          0.58070               0.18410          0.2833   \n",
      "534          0.21230               0.09861          0.2289   \n",
      "339          0.48190               0.20890          0.2593   \n",
      "186          0.35380               0.15710          0.3206   \n",
      "318          0.46090               0.11450          0.3135   \n",
      "213          0.28030               0.10990          0.1603   \n",
      "27           0.34460               0.14900          0.2341   \n",
      "414          0.15470               0.06575          0.3233   \n",
      "382          0.29120               0.10920          0.2191   \n",
      "280          0.57540               0.18720          0.3258   \n",
      "385          0.26750               0.13590          0.2477   \n",
      "86           0.33490               0.12250          0.3020   \n",
      "237          0.31580               0.14450          0.2238   \n",
      "376          0.60300               0.14650          0.2597   \n",
      "31           0.69560               0.15460          0.4761   \n",
      "445          0.16090               0.12020          0.2599   \n",
      "248          0.11250               0.06136          0.3409   \n",
      "18           0.53720               0.23880          0.2768   \n",
      "408          0.33010               0.19740          0.3060   \n",
      "350          0.03046               0.04262          0.2731   \n",
      "170          0.12420               0.09391          0.2827   \n",
      "212          0.32010               0.15950          0.1648   \n",
      "533          0.30920               0.16130          0.3220   \n",
      "463          0.18600               0.08288          0.3210   \n",
      "437          0.11170               0.07453          0.2725   \n",
      "558          0.36620               0.11050          0.2258   \n",
      "356          0.25730               0.12580          0.3113   \n",
      "53           0.26230               0.13250          0.3021   \n",
      "22           0.63050               0.23930          0.4667   \n",
      "56           0.38790               0.20910          0.3537   \n",
      "386          0.30760               0.09140          0.2677   \n",
      "287          0.11860               0.05366          0.2309   \n",
      "564          0.41070               0.22160          0.2060   \n",
      "485          0.48960               0.13420          0.3231   \n",
      "346          0.04506               0.05093          0.2880   \n",
      "312          0.17690               0.08411          0.2564   \n",
      "190          0.84880               0.17720          0.5166   \n",
      "184          0.36300               0.12260          0.3175   \n",
      "491          0.10480               0.08341          0.1783   \n",
      "526          0.26540               0.14270          0.3518   \n",
      "378          0.25690               0.10540          0.3387   \n",
      "353          0.40290               0.15260          0.2654   \n",
      "515          0.16240               0.08542          0.3060   \n",
      "55           0.09076               0.06316          0.3306   \n",
      "404          0.04921               0.04793          0.2298   \n",
      "33           0.60910               0.17850          0.3672   \n",
      "10           0.14590               0.09975          0.2948   \n",
      "257          0.44290               0.22290          0.3258   \n",
      "173          0.03938               0.04306          0.1902   \n",
      "196          0.38090               0.16730          0.3080   \n",
      "219          0.39950               0.16250          0.2713   \n",
      "\n",
      "     fractal_dimension_worst  \n",
      "552                  0.06484  \n",
      "283                  0.10630  \n",
      "530                  0.07757  \n",
      "454                  0.07330  \n",
      "295                  0.06794  \n",
      "6                    0.08368  \n",
      "566                  0.07820  \n",
      "272                  0.08858  \n",
      "534                  0.08278  \n",
      "339                  0.07738  \n",
      "186                  0.06938  \n",
      "318                  0.10550  \n",
      "213                  0.06818  \n",
      "27                   0.07421  \n",
      "414                  0.06165  \n",
      "382                  0.09349  \n",
      "280                  0.09720  \n",
      "385                  0.06836  \n",
      "86                   0.06846  \n",
      "237                  0.07127  \n",
      "376                  0.12000  \n",
      "31                   0.14020  \n",
      "445                  0.08251  \n",
      "248                  0.08147  \n",
      "18                   0.07615  \n",
      "408                  0.08503  \n",
      "350                  0.06825  \n",
      "170                  0.06771  \n",
      "212                  0.05525  \n",
      "533                  0.06386  \n",
      "463                  0.07863  \n",
      "437                  0.07234  \n",
      "558                  0.08004  \n",
      "356                  0.08317  \n",
      "53                   0.07987  \n",
      "22                   0.09946  \n",
      "56                   0.08294  \n",
      "386                  0.08824  \n",
      "287                  0.06915  \n",
      "564                  0.07115  \n",
      "485                  0.10340  \n",
      "346                  0.08083  \n",
      "312                  0.08253  \n",
      "190                  0.14460  \n",
      "184                  0.09772  \n",
      "491                  0.05871  \n",
      "526                  0.08665  \n",
      "378                  0.09638  \n",
      "353                  0.09438  \n",
      "515                  0.06783  \n",
      "55                   0.07036  \n",
      "404                  0.05974  \n",
      "33                   0.11230  \n",
      "10                   0.08452  \n",
      "257                  0.11910  \n",
      "173                  0.07313  \n",
      "196                  0.09333  \n",
      "219                  0.07568  \n",
      "\n",
      "[58 rows x 30 columns]\n"
     ]
    }
   ],
   "source": [
    "from sklearn.model_selection import train_test_split\n",
    "train_ratio = 0.75\n",
    "validation_ratio = 0.15\n",
    "test_ratio = 0.10\n",
    "\n",
    "# train is now 75% of the entire data set\n",
    "# the _junk suffix means that we drop that variable completely\n",
    "x_train, x_test, y_train, y_test = train_test_split(x, y, test_size=1 - train_ratio)\n",
    "\n",
    "\n",
    "# test is now 10% of the initial data set\n",
    "# validation is now 15% of the initial data set\n",
    "x_val, x_test, y_val, y_test = train_test_split(x_test, y_test, test_size=test_ratio/(test_ratio + validation_ratio)) \n",
    "\n",
    "print(x_train, x_val, x_test)"
   ]
  },
  {
   "cell_type": "markdown",
   "id": "e49c6db4",
   "metadata": {
    "papermill": {
     "duration": 0.040091,
     "end_time": "2021-10-06T17:32:22.773036",
     "exception": false,
     "start_time": "2021-10-06T17:32:22.732945",
     "status": "completed"
    },
    "tags": []
   },
   "source": [
    "# ****Preprocessing Data****"
   ]
  },
  {
   "cell_type": "code",
   "execution_count": 12,
   "id": "6b3958cb",
   "metadata": {
    "execution": {
     "iopub.execute_input": "2021-10-06T17:32:22.866108Z",
     "iopub.status.busy": "2021-10-06T17:32:22.865210Z",
     "iopub.status.idle": "2021-10-06T17:32:22.877937Z",
     "shell.execute_reply": "2021-10-06T17:32:22.878534Z",
     "shell.execute_reply.started": "2021-10-06T16:13:10.812414Z"
    },
    "papermill": {
     "duration": 0.065845,
     "end_time": "2021-10-06T17:32:22.878689",
     "exception": false,
     "start_time": "2021-10-06T17:32:22.812844",
     "status": "completed"
    },
    "tags": []
   },
   "outputs": [
    {
     "name": "stdout",
     "output_type": "stream",
     "text": [
      "[[-0.12630273  0.61362539 -0.17391198 ... -0.76514405 -0.75406082\n",
      "  -0.76183873]\n",
      " [-0.63122425  0.54259029 -0.61125653 ... -0.38147818 -0.98742258\n",
      "   0.883618  ]\n",
      " [-0.9453324  -2.2585603  -0.95249535 ... -1.00274424 -1.34325789\n",
      "  -0.38250701]\n",
      " ...\n",
      " [-0.78974612 -1.20487305 -0.82463664 ... -1.52588412 -0.23768586\n",
      "  -1.12037746]\n",
      " [-1.03046451  0.90960495 -1.03378301 ... -1.22416484 -1.11651632\n",
      "  -0.90064605]\n",
      " [-0.64003102 -0.0730472  -0.6671418  ... -0.65668091 -0.60676156\n",
      "  -0.21728696]] [[-0.6439361  -0.97038278 -0.64268829 ... -0.57942748  0.05009477\n",
      "   0.34594277]\n",
      " [ 0.14055331  0.29484535  0.15500127 ...  1.04828952  2.82548939\n",
      "   0.84476207]\n",
      " [-0.85065967  0.33304939 -0.81740176 ... -0.40563981 -0.46454794\n",
      "   0.09443283]\n",
      " ...\n",
      " [-1.10720891 -0.72767472 -1.12869524 ... -0.91719102 -0.1030727\n",
      "  -0.18175554]\n",
      " [-0.08207206  1.36455865 -0.09558999 ...  0.07603003 -0.3940909\n",
      "  -0.5902623 ]\n",
      " [ 1.08936146 -0.46249369  1.05035915 ...  0.59783902 -0.10154102\n",
      "  -0.1555019 ]] [[-0.64981812  2.0658703  -0.69898458 ... -1.21590395 -0.71665115\n",
      "  -1.00352683]\n",
      " [ 0.2713663  -0.30751783  0.37214815 ...  0.85228206 -0.17060406\n",
      "   1.26414053]\n",
      " [-0.92059856 -0.57691742 -0.91204049 ... -0.52752787 -0.60984855\n",
      "  -0.30725559]\n",
      " ...\n",
      " [-1.09846414 -1.21145364 -1.13368107 ... -1.63481577 -1.47630345\n",
      "  -0.55010275]\n",
      " [-0.38434711  0.47619007 -0.33686758 ...  0.73952751  0.29571716\n",
      "   0.55474242]\n",
      " [ 1.14476595  2.74270894  1.12135574 ...  0.64779499 -0.25634699\n",
      "  -0.41062972]]\n"
     ]
    }
   ],
   "source": [
    "#importing StandardScaler\n",
    "from sklearn.preprocessing import StandardScaler\n",
    "#creating object\n",
    "sc = StandardScaler()\n",
    "x_train = sc.fit_transform(x_train)\n",
    "x_val = sc.fit_transform(x_val)\n",
    "x_test = sc.fit_transform(x_test)\n",
    "\n",
    "print(x_train, x_val, x_test)"
   ]
  },
  {
   "cell_type": "markdown",
   "id": "489effe0",
   "metadata": {
    "papermill": {
     "duration": 0.041514,
     "end_time": "2021-10-06T17:32:22.964795",
     "exception": false,
     "start_time": "2021-10-06T17:32:22.923281",
     "status": "completed"
    },
    "tags": []
   },
   "source": [
    "# ****Model Building (import library)****"
   ]
  },
  {
   "cell_type": "code",
   "execution_count": 13,
   "id": "03d4ee29",
   "metadata": {
    "execution": {
     "iopub.execute_input": "2021-10-06T17:32:23.053104Z",
     "iopub.status.busy": "2021-10-06T17:32:23.051236Z",
     "iopub.status.idle": "2021-10-06T17:32:27.229665Z",
     "shell.execute_reply": "2021-10-06T17:32:27.228731Z",
     "shell.execute_reply.started": "2021-10-06T16:41:16.131240Z"
    },
    "papermill": {
     "duration": 4.22385,
     "end_time": "2021-10-06T17:32:27.229808",
     "exception": false,
     "start_time": "2021-10-06T17:32:23.005958",
     "status": "completed"
    },
    "tags": []
   },
   "outputs": [
    {
     "name": "stderr",
     "output_type": "stream",
     "text": [
      "2021-10-06 17:32:23.567090: I tensorflow/stream_executor/platform/default/dso_loader.cc:49] Successfully opened dynamic library libcudart.so.11.0\n"
     ]
    }
   ],
   "source": [
    "import tensorflow\n",
    "#importing keras\n",
    "import tensorflow.keras\n",
    "#importing sequential module\n",
    "from tensorflow.keras.models import Sequential\n",
    "# import dense module for hidden layers\n",
    "from tensorflow.keras.layers import Dense\n",
    "#importing activation functions\n",
    "from tensorflow.keras.layers import LeakyReLU,PReLU,ELU\n",
    "from tensorflow.keras.layers import Dropout\n",
    "from tensorflow.keras.optimizers import Adam\n",
    "from tensorflow.keras.metrics import binary_crossentropy\n",
    "from tensorflow.keras.callbacks import EarlyStopping\n",
    "from tensorflow.python.ops.numpy_ops import np_utils"
   ]
  },
  {
   "cell_type": "markdown",
   "id": "315f998e",
   "metadata": {
    "papermill": {
     "duration": 0.040366,
     "end_time": "2021-10-06T17:32:27.311017",
     "exception": false,
     "start_time": "2021-10-06T17:32:27.270651",
     "status": "completed"
    },
    "tags": []
   },
   "source": [
    "# ****(Architecture 1)****"
   ]
  },
  {
   "cell_type": "code",
   "execution_count": 14,
   "id": "04a44c8e",
   "metadata": {
    "execution": {
     "iopub.execute_input": "2021-10-06T17:32:27.396167Z",
     "iopub.status.busy": "2021-10-06T17:32:27.395389Z",
     "iopub.status.idle": "2021-10-06T17:32:29.421620Z",
     "shell.execute_reply": "2021-10-06T17:32:29.422011Z",
     "shell.execute_reply.started": "2021-10-06T16:41:25.822835Z"
    },
    "papermill": {
     "duration": 2.071438,
     "end_time": "2021-10-06T17:32:29.422219",
     "exception": false,
     "start_time": "2021-10-06T17:32:27.350781",
     "status": "completed"
    },
    "tags": []
   },
   "outputs": [
    {
     "name": "stderr",
     "output_type": "stream",
     "text": [
      "2021-10-06 17:32:27.409364: I tensorflow/compiler/jit/xla_cpu_device.cc:41] Not creating XLA devices, tf_xla_enable_xla_devices not set\n",
      "2021-10-06 17:32:27.412234: I tensorflow/stream_executor/platform/default/dso_loader.cc:49] Successfully opened dynamic library libcuda.so.1\n",
      "2021-10-06 17:32:27.459937: I tensorflow/stream_executor/cuda/cuda_gpu_executor.cc:941] successful NUMA node read from SysFS had negative value (-1), but there must be at least one NUMA node, so returning NUMA node zero\n",
      "2021-10-06 17:32:27.460565: I tensorflow/core/common_runtime/gpu/gpu_device.cc:1720] Found device 0 with properties: \n",
      "pciBusID: 0000:00:04.0 name: Tesla P100-PCIE-16GB computeCapability: 6.0\n",
      "coreClock: 1.3285GHz coreCount: 56 deviceMemorySize: 15.90GiB deviceMemoryBandwidth: 681.88GiB/s\n",
      "2021-10-06 17:32:27.460625: I tensorflow/stream_executor/platform/default/dso_loader.cc:49] Successfully opened dynamic library libcudart.so.11.0\n",
      "2021-10-06 17:32:27.485672: I tensorflow/stream_executor/platform/default/dso_loader.cc:49] Successfully opened dynamic library libcublas.so.11\n",
      "2021-10-06 17:32:27.485777: I tensorflow/stream_executor/platform/default/dso_loader.cc:49] Successfully opened dynamic library libcublasLt.so.11\n",
      "2021-10-06 17:32:27.501460: I tensorflow/stream_executor/platform/default/dso_loader.cc:49] Successfully opened dynamic library libcufft.so.10\n",
      "2021-10-06 17:32:27.508510: I tensorflow/stream_executor/platform/default/dso_loader.cc:49] Successfully opened dynamic library libcurand.so.10\n",
      "2021-10-06 17:32:27.529343: I tensorflow/stream_executor/platform/default/dso_loader.cc:49] Successfully opened dynamic library libcusolver.so.10\n",
      "2021-10-06 17:32:27.536254: I tensorflow/stream_executor/platform/default/dso_loader.cc:49] Successfully opened dynamic library libcusparse.so.11\n",
      "2021-10-06 17:32:27.538572: I tensorflow/stream_executor/platform/default/dso_loader.cc:49] Successfully opened dynamic library libcudnn.so.8\n",
      "2021-10-06 17:32:27.538760: I tensorflow/stream_executor/cuda/cuda_gpu_executor.cc:941] successful NUMA node read from SysFS had negative value (-1), but there must be at least one NUMA node, so returning NUMA node zero\n",
      "2021-10-06 17:32:27.539506: I tensorflow/stream_executor/cuda/cuda_gpu_executor.cc:941] successful NUMA node read from SysFS had negative value (-1), but there must be at least one NUMA node, so returning NUMA node zero\n",
      "2021-10-06 17:32:27.540616: I tensorflow/core/common_runtime/gpu/gpu_device.cc:1862] Adding visible gpu devices: 0\n",
      "2021-10-06 17:32:27.541699: I tensorflow/core/platform/cpu_feature_guard.cc:142] This TensorFlow binary is optimized with oneAPI Deep Neural Network Library (oneDNN) to use the following CPU instructions in performance-critical operations:  AVX2 AVX512F FMA\n",
      "To enable them in other operations, rebuild TensorFlow with the appropriate compiler flags.\n",
      "2021-10-06 17:32:27.541944: I tensorflow/compiler/jit/xla_gpu_device.cc:99] Not creating XLA devices, tf_xla_enable_xla_devices not set\n",
      "2021-10-06 17:32:27.542137: I tensorflow/stream_executor/cuda/cuda_gpu_executor.cc:941] successful NUMA node read from SysFS had negative value (-1), but there must be at least one NUMA node, so returning NUMA node zero\n",
      "2021-10-06 17:32:27.542769: I tensorflow/core/common_runtime/gpu/gpu_device.cc:1720] Found device 0 with properties: \n",
      "pciBusID: 0000:00:04.0 name: Tesla P100-PCIE-16GB computeCapability: 6.0\n",
      "coreClock: 1.3285GHz coreCount: 56 deviceMemorySize: 15.90GiB deviceMemoryBandwidth: 681.88GiB/s\n",
      "2021-10-06 17:32:27.542818: I tensorflow/stream_executor/platform/default/dso_loader.cc:49] Successfully opened dynamic library libcudart.so.11.0\n",
      "2021-10-06 17:32:27.542855: I tensorflow/stream_executor/platform/default/dso_loader.cc:49] Successfully opened dynamic library libcublas.so.11\n",
      "2021-10-06 17:32:27.542873: I tensorflow/stream_executor/platform/default/dso_loader.cc:49] Successfully opened dynamic library libcublasLt.so.11\n",
      "2021-10-06 17:32:27.542891: I tensorflow/stream_executor/platform/default/dso_loader.cc:49] Successfully opened dynamic library libcufft.so.10\n",
      "2021-10-06 17:32:27.542907: I tensorflow/stream_executor/platform/default/dso_loader.cc:49] Successfully opened dynamic library libcurand.so.10\n",
      "2021-10-06 17:32:27.542924: I tensorflow/stream_executor/platform/default/dso_loader.cc:49] Successfully opened dynamic library libcusolver.so.10\n",
      "2021-10-06 17:32:27.542942: I tensorflow/stream_executor/platform/default/dso_loader.cc:49] Successfully opened dynamic library libcusparse.so.11\n",
      "2021-10-06 17:32:27.542959: I tensorflow/stream_executor/platform/default/dso_loader.cc:49] Successfully opened dynamic library libcudnn.so.8\n",
      "2021-10-06 17:32:27.543030: I tensorflow/stream_executor/cuda/cuda_gpu_executor.cc:941] successful NUMA node read from SysFS had negative value (-1), but there must be at least one NUMA node, so returning NUMA node zero\n",
      "2021-10-06 17:32:27.543656: I tensorflow/stream_executor/cuda/cuda_gpu_executor.cc:941] successful NUMA node read from SysFS had negative value (-1), but there must be at least one NUMA node, so returning NUMA node zero\n",
      "2021-10-06 17:32:27.544192: I tensorflow/core/common_runtime/gpu/gpu_device.cc:1862] Adding visible gpu devices: 0\n",
      "2021-10-06 17:32:27.545243: I tensorflow/stream_executor/platform/default/dso_loader.cc:49] Successfully opened dynamic library libcudart.so.11.0\n",
      "2021-10-06 17:32:29.074674: I tensorflow/core/common_runtime/gpu/gpu_device.cc:1261] Device interconnect StreamExecutor with strength 1 edge matrix:\n",
      "2021-10-06 17:32:29.074728: I tensorflow/core/common_runtime/gpu/gpu_device.cc:1267]      0 \n",
      "2021-10-06 17:32:29.074740: I tensorflow/core/common_runtime/gpu/gpu_device.cc:1280] 0:   N \n",
      "2021-10-06 17:32:29.077425: I tensorflow/stream_executor/cuda/cuda_gpu_executor.cc:941] successful NUMA node read from SysFS had negative value (-1), but there must be at least one NUMA node, so returning NUMA node zero\n",
      "2021-10-06 17:32:29.078226: I tensorflow/stream_executor/cuda/cuda_gpu_executor.cc:941] successful NUMA node read from SysFS had negative value (-1), but there must be at least one NUMA node, so returning NUMA node zero\n",
      "2021-10-06 17:32:29.078983: I tensorflow/stream_executor/cuda/cuda_gpu_executor.cc:941] successful NUMA node read from SysFS had negative value (-1), but there must be at least one NUMA node, so returning NUMA node zero\n",
      "2021-10-06 17:32:29.079588: I tensorflow/core/common_runtime/gpu/gpu_device.cc:1406] Created TensorFlow device (/job:localhost/replica:0/task:0/device:GPU:0 with 14957 MB memory) -> physical GPU (device: 0, name: Tesla P100-PCIE-16GB, pci bus id: 0000:00:04.0, compute capability: 6.0)\n"
     ]
    }
   ],
   "source": [
    "\n",
    "#first hidden layer, second hidden layer and last layer or output layer\n",
    "model = Sequential([\n",
    " Dense(units=9,kernel_initializer='he_uniform',activation='relu',input_dim=30),\n",
    " Dense(units=9,kernel_initializer='he_uniform',activation='relu'),\n",
    " Dense(units=1,kernel_initializer='glorot_uniform',activation='sigmoid'),\n",
    "])"
   ]
  },
  {
   "cell_type": "code",
   "execution_count": 15,
   "id": "335019b3",
   "metadata": {
    "execution": {
     "iopub.execute_input": "2021-10-06T17:32:29.513813Z",
     "iopub.status.busy": "2021-10-06T17:32:29.511422Z",
     "iopub.status.idle": "2021-10-06T17:32:29.517040Z",
     "shell.execute_reply": "2021-10-06T17:32:29.517494Z",
     "shell.execute_reply.started": "2021-10-06T16:41:36.583929Z"
    },
    "papermill": {
     "duration": 0.052474,
     "end_time": "2021-10-06T17:32:29.517630",
     "exception": false,
     "start_time": "2021-10-06T17:32:29.465156",
     "status": "completed"
    },
    "tags": []
   },
   "outputs": [
    {
     "name": "stdout",
     "output_type": "stream",
     "text": [
      "Model: \"sequential\"\n",
      "_________________________________________________________________\n",
      "Layer (type)                 Output Shape              Param #   \n",
      "=================================================================\n",
      "dense (Dense)                (None, 9)                 279       \n",
      "_________________________________________________________________\n",
      "dense_1 (Dense)              (None, 9)                 90        \n",
      "_________________________________________________________________\n",
      "dense_2 (Dense)              (None, 1)                 10        \n",
      "=================================================================\n",
      "Total params: 379\n",
      "Trainable params: 379\n",
      "Non-trainable params: 0\n",
      "_________________________________________________________________\n"
     ]
    }
   ],
   "source": [
    "#taking summary of layers\n",
    "model.summary()"
   ]
  },
  {
   "cell_type": "code",
   "execution_count": 16,
   "id": "87dd22a1",
   "metadata": {
    "execution": {
     "iopub.execute_input": "2021-10-06T17:32:29.616252Z",
     "iopub.status.busy": "2021-10-06T17:32:29.615053Z",
     "iopub.status.idle": "2021-10-06T17:32:29.770246Z",
     "shell.execute_reply": "2021-10-06T17:32:29.770657Z",
     "shell.execute_reply.started": "2021-10-06T16:41:57.542268Z"
    },
    "papermill": {
     "duration": 0.209585,
     "end_time": "2021-10-06T17:32:29.770903",
     "exception": false,
     "start_time": "2021-10-06T17:32:29.561318",
     "status": "completed"
    },
    "tags": []
   },
   "outputs": [],
   "source": [
    "#compiling the ANN\n",
    "model.compile('Adam',\n",
    " loss='binary_crossentropy',\n",
    " metrics=['accuracy'])"
   ]
  },
  {
   "cell_type": "code",
   "execution_count": 17,
   "id": "326ea1a1",
   "metadata": {
    "execution": {
     "iopub.execute_input": "2021-10-06T17:32:29.863002Z",
     "iopub.status.busy": "2021-10-06T17:32:29.862337Z",
     "iopub.status.idle": "2021-10-06T17:32:37.447523Z",
     "shell.execute_reply": "2021-10-06T17:32:37.446892Z",
     "shell.execute_reply.started": "2021-10-06T16:42:55.785464Z"
    },
    "papermill": {
     "duration": 7.632201,
     "end_time": "2021-10-06T17:32:37.447654",
     "exception": false,
     "start_time": "2021-10-06T17:32:29.815453",
     "status": "completed"
    },
    "tags": []
   },
   "outputs": [
    {
     "name": "stderr",
     "output_type": "stream",
     "text": [
      "2021-10-06 17:32:29.920719: I tensorflow/compiler/mlir/mlir_graph_optimization_pass.cc:116] None of the MLIR optimization passes are enabled (registered 2)\n",
      "2021-10-06 17:32:29.931392: I tensorflow/core/platform/profile_utils/cpu_utils.cc:112] CPU Frequency: 2000150000 Hz\n"
     ]
    },
    {
     "name": "stdout",
     "output_type": "stream",
     "text": [
      "Epoch 1/100\n"
     ]
    },
    {
     "name": "stderr",
     "output_type": "stream",
     "text": [
      "2021-10-06 17:32:30.402038: I tensorflow/stream_executor/platform/default/dso_loader.cc:49] Successfully opened dynamic library libcublas.so.11\n"
     ]
    },
    {
     "name": "stdout",
     "output_type": "stream",
     "text": [
      "1/5 [=====>........................] - ETA: 5s - loss: 0.6323 - accuracy: 0.5400"
     ]
    },
    {
     "name": "stderr",
     "output_type": "stream",
     "text": [
      "2021-10-06 17:32:31.233192: I tensorflow/stream_executor/platform/default/dso_loader.cc:49] Successfully opened dynamic library libcublasLt.so.11\n"
     ]
    },
    {
     "name": "stdout",
     "output_type": "stream",
     "text": [
      "5/5 [==============================] - 2s 134ms/step - loss: 0.6536 - accuracy: 0.5267 - val_loss: 0.5994 - val_accuracy: 0.6000\n",
      "Epoch 2/100\n",
      "5/5 [==============================] - 0s 13ms/step - loss: 0.6246 - accuracy: 0.5982 - val_loss: 0.5647 - val_accuracy: 0.7176\n",
      "Epoch 3/100\n",
      "5/5 [==============================] - 0s 12ms/step - loss: 0.6095 - accuracy: 0.6273 - val_loss: 0.5314 - val_accuracy: 0.7882\n",
      "Epoch 4/100\n",
      "5/5 [==============================] - 0s 12ms/step - loss: 0.5735 - accuracy: 0.6850 - val_loss: 0.4981 - val_accuracy: 0.8706\n",
      "Epoch 5/100\n",
      "5/5 [==============================] - 0s 13ms/step - loss: 0.5342 - accuracy: 0.7796 - val_loss: 0.4676 - val_accuracy: 0.9176\n",
      "Epoch 6/100\n",
      "5/5 [==============================] - 0s 12ms/step - loss: 0.5215 - accuracy: 0.8030 - val_loss: 0.4390 - val_accuracy: 0.9176\n",
      "Epoch 7/100\n",
      "5/5 [==============================] - 0s 12ms/step - loss: 0.4930 - accuracy: 0.8253 - val_loss: 0.4115 - val_accuracy: 0.9529\n",
      "Epoch 8/100\n",
      "5/5 [==============================] - 0s 12ms/step - loss: 0.4532 - accuracy: 0.8486 - val_loss: 0.3845 - val_accuracy: 0.9529\n",
      "Epoch 9/100\n",
      "5/5 [==============================] - 0s 12ms/step - loss: 0.4395 - accuracy: 0.8457 - val_loss: 0.3603 - val_accuracy: 0.9529\n",
      "Epoch 10/100\n",
      "5/5 [==============================] - 0s 12ms/step - loss: 0.4313 - accuracy: 0.8499 - val_loss: 0.3386 - val_accuracy: 0.9529\n",
      "Epoch 11/100\n",
      "5/5 [==============================] - 0s 11ms/step - loss: 0.4000 - accuracy: 0.8668 - val_loss: 0.3181 - val_accuracy: 0.9529\n",
      "Epoch 12/100\n",
      "5/5 [==============================] - 0s 12ms/step - loss: 0.3660 - accuracy: 0.8829 - val_loss: 0.2996 - val_accuracy: 0.9529\n",
      "Epoch 13/100\n",
      "5/5 [==============================] - 0s 12ms/step - loss: 0.3508 - accuracy: 0.8901 - val_loss: 0.2823 - val_accuracy: 0.9529\n",
      "Epoch 14/100\n",
      "5/5 [==============================] - 0s 11ms/step - loss: 0.3339 - accuracy: 0.8967 - val_loss: 0.2664 - val_accuracy: 0.9529\n",
      "Epoch 15/100\n",
      "5/5 [==============================] - 0s 12ms/step - loss: 0.3148 - accuracy: 0.9036 - val_loss: 0.2515 - val_accuracy: 0.9647\n",
      "Epoch 16/100\n",
      "5/5 [==============================] - 0s 11ms/step - loss: 0.3129 - accuracy: 0.9005 - val_loss: 0.2375 - val_accuracy: 0.9647\n",
      "Epoch 17/100\n",
      "5/5 [==============================] - 0s 12ms/step - loss: 0.2876 - accuracy: 0.9184 - val_loss: 0.2251 - val_accuracy: 0.9647\n",
      "Epoch 18/100\n",
      "5/5 [==============================] - 0s 12ms/step - loss: 0.2923 - accuracy: 0.9064 - val_loss: 0.2149 - val_accuracy: 0.9647\n",
      "Epoch 19/100\n",
      "5/5 [==============================] - 0s 12ms/step - loss: 0.2840 - accuracy: 0.9129 - val_loss: 0.2047 - val_accuracy: 0.9647\n",
      "Epoch 20/100\n",
      "5/5 [==============================] - 0s 12ms/step - loss: 0.2707 - accuracy: 0.9163 - val_loss: 0.1948 - val_accuracy: 0.9647\n",
      "Epoch 21/100\n",
      "5/5 [==============================] - 0s 12ms/step - loss: 0.2652 - accuracy: 0.9097 - val_loss: 0.1858 - val_accuracy: 0.9647\n",
      "Epoch 22/100\n",
      "5/5 [==============================] - 0s 13ms/step - loss: 0.2358 - accuracy: 0.9262 - val_loss: 0.1777 - val_accuracy: 0.9647\n",
      "Epoch 23/100\n",
      "5/5 [==============================] - 0s 12ms/step - loss: 0.2423 - accuracy: 0.9201 - val_loss: 0.1696 - val_accuracy: 0.9647\n",
      "Epoch 24/100\n",
      "5/5 [==============================] - 0s 12ms/step - loss: 0.2347 - accuracy: 0.9173 - val_loss: 0.1626 - val_accuracy: 0.9647\n",
      "Epoch 25/100\n",
      "5/5 [==============================] - 0s 12ms/step - loss: 0.2124 - accuracy: 0.9300 - val_loss: 0.1559 - val_accuracy: 0.9647\n",
      "Epoch 26/100\n",
      "5/5 [==============================] - 0s 12ms/step - loss: 0.2274 - accuracy: 0.9232 - val_loss: 0.1497 - val_accuracy: 0.9647\n",
      "Epoch 27/100\n",
      "5/5 [==============================] - 0s 12ms/step - loss: 0.2021 - accuracy: 0.9263 - val_loss: 0.1441 - val_accuracy: 0.9647\n",
      "Epoch 28/100\n",
      "5/5 [==============================] - 0s 12ms/step - loss: 0.2027 - accuracy: 0.9201 - val_loss: 0.1385 - val_accuracy: 0.9765\n",
      "Epoch 29/100\n",
      "5/5 [==============================] - 0s 12ms/step - loss: 0.1896 - accuracy: 0.9307 - val_loss: 0.1330 - val_accuracy: 0.9765\n",
      "Epoch 30/100\n",
      "5/5 [==============================] - 0s 14ms/step - loss: 0.1834 - accuracy: 0.9356 - val_loss: 0.1280 - val_accuracy: 0.9765\n",
      "Epoch 31/100\n",
      "5/5 [==============================] - 0s 13ms/step - loss: 0.1789 - accuracy: 0.9409 - val_loss: 0.1232 - val_accuracy: 0.9765\n",
      "Epoch 32/100\n",
      "5/5 [==============================] - 0s 13ms/step - loss: 0.1815 - accuracy: 0.9313 - val_loss: 0.1183 - val_accuracy: 0.9765\n",
      "Epoch 33/100\n",
      "5/5 [==============================] - 0s 12ms/step - loss: 0.1728 - accuracy: 0.9394 - val_loss: 0.1138 - val_accuracy: 0.9765\n",
      "Epoch 34/100\n",
      "5/5 [==============================] - 0s 12ms/step - loss: 0.1798 - accuracy: 0.9350 - val_loss: 0.1096 - val_accuracy: 0.9882\n",
      "Epoch 35/100\n",
      "5/5 [==============================] - 0s 12ms/step - loss: 0.1636 - accuracy: 0.9393 - val_loss: 0.1062 - val_accuracy: 0.9765\n",
      "Epoch 36/100\n",
      "5/5 [==============================] - 0s 13ms/step - loss: 0.1679 - accuracy: 0.9354 - val_loss: 0.1028 - val_accuracy: 0.9765\n",
      "Epoch 37/100\n",
      "5/5 [==============================] - 0s 12ms/step - loss: 0.1577 - accuracy: 0.9503 - val_loss: 0.0992 - val_accuracy: 0.9765\n",
      "Epoch 38/100\n",
      "5/5 [==============================] - 0s 13ms/step - loss: 0.1542 - accuracy: 0.9455 - val_loss: 0.0962 - val_accuracy: 0.9765\n",
      "Epoch 39/100\n",
      "5/5 [==============================] - 0s 13ms/step - loss: 0.1826 - accuracy: 0.9242 - val_loss: 0.0935 - val_accuracy: 0.9765\n",
      "Epoch 40/100\n",
      "5/5 [==============================] - 0s 13ms/step - loss: 0.1544 - accuracy: 0.9465 - val_loss: 0.0904 - val_accuracy: 0.9882\n",
      "Epoch 41/100\n",
      "5/5 [==============================] - 0s 13ms/step - loss: 0.1410 - accuracy: 0.9459 - val_loss: 0.0877 - val_accuracy: 0.9882\n",
      "Epoch 42/100\n",
      "5/5 [==============================] - 0s 12ms/step - loss: 0.1583 - accuracy: 0.9377 - val_loss: 0.0854 - val_accuracy: 0.9882\n",
      "Epoch 43/100\n",
      "5/5 [==============================] - 0s 12ms/step - loss: 0.1458 - accuracy: 0.9457 - val_loss: 0.0832 - val_accuracy: 0.9882\n",
      "Epoch 44/100\n",
      "5/5 [==============================] - 0s 13ms/step - loss: 0.1416 - accuracy: 0.9483 - val_loss: 0.0808 - val_accuracy: 0.9882\n",
      "Epoch 45/100\n",
      "5/5 [==============================] - 0s 12ms/step - loss: 0.1362 - accuracy: 0.9520 - val_loss: 0.0788 - val_accuracy: 0.9882\n",
      "Epoch 46/100\n",
      "5/5 [==============================] - 0s 12ms/step - loss: 0.1600 - accuracy: 0.9423 - val_loss: 0.0767 - val_accuracy: 0.9882\n",
      "Epoch 47/100\n",
      "5/5 [==============================] - 0s 12ms/step - loss: 0.1249 - accuracy: 0.9554 - val_loss: 0.0746 - val_accuracy: 0.9882\n",
      "Epoch 48/100\n",
      "5/5 [==============================] - 0s 12ms/step - loss: 0.1482 - accuracy: 0.9514 - val_loss: 0.0728 - val_accuracy: 0.9882\n",
      "Epoch 49/100\n",
      "5/5 [==============================] - 0s 12ms/step - loss: 0.1261 - accuracy: 0.9579 - val_loss: 0.0711 - val_accuracy: 0.9882\n",
      "Epoch 50/100\n",
      "5/5 [==============================] - 0s 13ms/step - loss: 0.1223 - accuracy: 0.9661 - val_loss: 0.0694 - val_accuracy: 0.9882\n",
      "Epoch 51/100\n",
      "5/5 [==============================] - 0s 12ms/step - loss: 0.1215 - accuracy: 0.9584 - val_loss: 0.0678 - val_accuracy: 0.9882\n",
      "Epoch 52/100\n",
      "5/5 [==============================] - 0s 15ms/step - loss: 0.1392 - accuracy: 0.9561 - val_loss: 0.0663 - val_accuracy: 0.9882\n",
      "Epoch 53/100\n",
      "5/5 [==============================] - 0s 25ms/step - loss: 0.1230 - accuracy: 0.9616 - val_loss: 0.0651 - val_accuracy: 0.9882\n",
      "Epoch 54/100\n",
      "5/5 [==============================] - 0s 21ms/step - loss: 0.1173 - accuracy: 0.9662 - val_loss: 0.0640 - val_accuracy: 0.9882\n",
      "Epoch 55/100\n",
      "5/5 [==============================] - 0s 21ms/step - loss: 0.1050 - accuracy: 0.9692 - val_loss: 0.0629 - val_accuracy: 0.9882\n",
      "Epoch 56/100\n",
      "5/5 [==============================] - 0s 21ms/step - loss: 0.1129 - accuracy: 0.9630 - val_loss: 0.0619 - val_accuracy: 0.9882\n",
      "Epoch 57/100\n",
      "5/5 [==============================] - 0s 21ms/step - loss: 0.1034 - accuracy: 0.9723 - val_loss: 0.0610 - val_accuracy: 0.9882\n",
      "Epoch 58/100\n",
      "5/5 [==============================] - 0s 16ms/step - loss: 0.0924 - accuracy: 0.9723 - val_loss: 0.0603 - val_accuracy: 0.9882\n",
      "Epoch 59/100\n",
      "5/5 [==============================] - 0s 11ms/step - loss: 0.1062 - accuracy: 0.9672 - val_loss: 0.0596 - val_accuracy: 0.9882\n",
      "Epoch 60/100\n",
      "5/5 [==============================] - 0s 11ms/step - loss: 0.1131 - accuracy: 0.9686 - val_loss: 0.0588 - val_accuracy: 0.9882\n",
      "Epoch 61/100\n",
      "5/5 [==============================] - 0s 11ms/step - loss: 0.0968 - accuracy: 0.9711 - val_loss: 0.0580 - val_accuracy: 0.9882\n",
      "Epoch 62/100\n",
      "5/5 [==============================] - 0s 11ms/step - loss: 0.0970 - accuracy: 0.9701 - val_loss: 0.0570 - val_accuracy: 0.9882\n",
      "Epoch 63/100\n",
      "5/5 [==============================] - 0s 11ms/step - loss: 0.1044 - accuracy: 0.9669 - val_loss: 0.0559 - val_accuracy: 0.9882\n",
      "Epoch 64/100\n",
      "5/5 [==============================] - 0s 11ms/step - loss: 0.1067 - accuracy: 0.9714 - val_loss: 0.0549 - val_accuracy: 0.9882\n",
      "Epoch 65/100\n",
      "5/5 [==============================] - 0s 11ms/step - loss: 0.0855 - accuracy: 0.9829 - val_loss: 0.0539 - val_accuracy: 0.9882\n",
      "Epoch 66/100\n",
      "5/5 [==============================] - 0s 11ms/step - loss: 0.0896 - accuracy: 0.9744 - val_loss: 0.0531 - val_accuracy: 0.9882\n",
      "Epoch 67/100\n",
      "5/5 [==============================] - 0s 11ms/step - loss: 0.1006 - accuracy: 0.9730 - val_loss: 0.0526 - val_accuracy: 0.9882\n",
      "Epoch 68/100\n",
      "5/5 [==============================] - 0s 12ms/step - loss: 0.1033 - accuracy: 0.9759 - val_loss: 0.0521 - val_accuracy: 0.9882\n",
      "Epoch 69/100\n",
      "5/5 [==============================] - 0s 12ms/step - loss: 0.1029 - accuracy: 0.9736 - val_loss: 0.0516 - val_accuracy: 0.9882\n",
      "Epoch 70/100\n",
      "5/5 [==============================] - 0s 12ms/step - loss: 0.1056 - accuracy: 0.9782 - val_loss: 0.0511 - val_accuracy: 0.9882\n",
      "Epoch 71/100\n",
      "5/5 [==============================] - 0s 12ms/step - loss: 0.0930 - accuracy: 0.9797 - val_loss: 0.0505 - val_accuracy: 0.9882\n",
      "Epoch 72/100\n",
      "5/5 [==============================] - 0s 12ms/step - loss: 0.1023 - accuracy: 0.9769 - val_loss: 0.0499 - val_accuracy: 0.9882\n",
      "Epoch 73/100\n",
      "5/5 [==============================] - 0s 11ms/step - loss: 0.0828 - accuracy: 0.9793 - val_loss: 0.0494 - val_accuracy: 0.9882\n",
      "Epoch 74/100\n",
      "5/5 [==============================] - 0s 11ms/step - loss: 0.0768 - accuracy: 0.9860 - val_loss: 0.0489 - val_accuracy: 0.9882\n",
      "Epoch 75/100\n",
      "5/5 [==============================] - 0s 12ms/step - loss: 0.0750 - accuracy: 0.9864 - val_loss: 0.0485 - val_accuracy: 0.9882\n",
      "Epoch 76/100\n",
      "5/5 [==============================] - 0s 11ms/step - loss: 0.0859 - accuracy: 0.9834 - val_loss: 0.0479 - val_accuracy: 0.9882\n",
      "Epoch 77/100\n",
      "5/5 [==============================] - 0s 11ms/step - loss: 0.0655 - accuracy: 0.9904 - val_loss: 0.0474 - val_accuracy: 0.9882\n",
      "Epoch 78/100\n",
      "5/5 [==============================] - 0s 11ms/step - loss: 0.0762 - accuracy: 0.9850 - val_loss: 0.0472 - val_accuracy: 0.9882\n",
      "Epoch 79/100\n",
      "5/5 [==============================] - 0s 11ms/step - loss: 0.0630 - accuracy: 0.9916 - val_loss: 0.0471 - val_accuracy: 0.9882\n",
      "Epoch 80/100\n",
      "5/5 [==============================] - 0s 11ms/step - loss: 0.0816 - accuracy: 0.9872 - val_loss: 0.0471 - val_accuracy: 0.9882\n",
      "Epoch 81/100\n",
      "5/5 [==============================] - 0s 11ms/step - loss: 0.0732 - accuracy: 0.9857 - val_loss: 0.0471 - val_accuracy: 0.9882\n",
      "Epoch 82/100\n",
      "5/5 [==============================] - 0s 11ms/step - loss: 0.0857 - accuracy: 0.9825 - val_loss: 0.0468 - val_accuracy: 0.9882\n",
      "Epoch 83/100\n",
      "5/5 [==============================] - 0s 11ms/step - loss: 0.0761 - accuracy: 0.9834 - val_loss: 0.0465 - val_accuracy: 0.9882\n",
      "Epoch 84/100\n",
      "5/5 [==============================] - 0s 11ms/step - loss: 0.0730 - accuracy: 0.9825 - val_loss: 0.0463 - val_accuracy: 0.9882\n",
      "Epoch 85/100\n",
      "5/5 [==============================] - 0s 11ms/step - loss: 0.0699 - accuracy: 0.9825 - val_loss: 0.0461 - val_accuracy: 0.9882\n",
      "Epoch 86/100\n",
      "5/5 [==============================] - 0s 11ms/step - loss: 0.0879 - accuracy: 0.9811 - val_loss: 0.0460 - val_accuracy: 0.9882\n",
      "Epoch 87/100\n",
      "5/5 [==============================] - 0s 11ms/step - loss: 0.0628 - accuracy: 0.9866 - val_loss: 0.0459 - val_accuracy: 0.9882\n",
      "Epoch 88/100\n",
      "5/5 [==============================] - 0s 11ms/step - loss: 0.0583 - accuracy: 0.9916 - val_loss: 0.0458 - val_accuracy: 0.9882\n",
      "Epoch 89/100\n",
      "5/5 [==============================] - 0s 11ms/step - loss: 0.0518 - accuracy: 0.9917 - val_loss: 0.0455 - val_accuracy: 0.9882\n",
      "Epoch 90/100\n",
      "5/5 [==============================] - 0s 11ms/step - loss: 0.0646 - accuracy: 0.9847 - val_loss: 0.0454 - val_accuracy: 0.9882\n",
      "Epoch 91/100\n",
      "5/5 [==============================] - 0s 12ms/step - loss: 0.0661 - accuracy: 0.9872 - val_loss: 0.0455 - val_accuracy: 0.9882\n",
      "Epoch 92/100\n",
      "5/5 [==============================] - 0s 12ms/step - loss: 0.0699 - accuracy: 0.9861 - val_loss: 0.0455 - val_accuracy: 0.9882\n",
      "Epoch 93/100\n",
      "5/5 [==============================] - 0s 11ms/step - loss: 0.0661 - accuracy: 0.9850 - val_loss: 0.0455 - val_accuracy: 0.9882\n",
      "Epoch 94/100\n",
      "5/5 [==============================] - 0s 11ms/step - loss: 0.0635 - accuracy: 0.9886 - val_loss: 0.0454 - val_accuracy: 0.9882\n",
      "Epoch 95/100\n",
      "5/5 [==============================] - 0s 11ms/step - loss: 0.0739 - accuracy: 0.9796 - val_loss: 0.0450 - val_accuracy: 0.9882\n",
      "Epoch 96/100\n",
      "5/5 [==============================] - 0s 11ms/step - loss: 0.0681 - accuracy: 0.9881 - val_loss: 0.0450 - val_accuracy: 0.9882\n",
      "Epoch 97/100\n",
      "5/5 [==============================] - 0s 12ms/step - loss: 0.0722 - accuracy: 0.9825 - val_loss: 0.0450 - val_accuracy: 0.9882\n",
      "Epoch 98/100\n",
      "5/5 [==============================] - 0s 11ms/step - loss: 0.0508 - accuracy: 0.9877 - val_loss: 0.0449 - val_accuracy: 0.9882\n",
      "Epoch 99/100\n",
      "5/5 [==============================] - 0s 11ms/step - loss: 0.0513 - accuracy: 0.9870 - val_loss: 0.0449 - val_accuracy: 0.9882\n",
      "Epoch 100/100\n",
      "5/5 [==============================] - 0s 11ms/step - loss: 0.0516 - accuracy: 0.9891 - val_loss: 0.0449 - val_accuracy: 0.9882\n"
     ]
    }
   ],
   "source": [
    "history= model.fit(x_train,\n",
    " y_train,\n",
    " validation_data=(x_val, y_val),\n",
    " batch_size=100,\n",
    " epochs=100,\n",
    " verbose=1)\n"
   ]
  },
  {
   "cell_type": "markdown",
   "id": "4310b662",
   "metadata": {
    "papermill": {
     "duration": 0.095745,
     "end_time": "2021-10-06T17:32:37.641445",
     "exception": false,
     "start_time": "2021-10-06T17:32:37.545700",
     "status": "completed"
    },
    "tags": []
   },
   "source": [
    "# ****Train Set and Train Accuracy****"
   ]
  },
  {
   "cell_type": "code",
   "execution_count": 18,
   "id": "7b78dbd5",
   "metadata": {
    "execution": {
     "iopub.execute_input": "2021-10-06T17:32:37.835678Z",
     "iopub.status.busy": "2021-10-06T17:32:37.834477Z",
     "iopub.status.idle": "2021-10-06T17:32:37.938241Z",
     "shell.execute_reply": "2021-10-06T17:32:37.938972Z",
     "shell.execute_reply.started": "2021-10-06T16:44:10.926505Z"
    },
    "papermill": {
     "duration": 0.203209,
     "end_time": "2021-10-06T17:32:37.939164",
     "exception": false,
     "start_time": "2021-10-06T17:32:37.735955",
     "status": "completed"
    },
    "tags": []
   },
   "outputs": [
    {
     "name": "stdout",
     "output_type": "stream",
     "text": [
      "Train Accuracy:  0.9859154929577465\n"
     ]
    }
   ],
   "source": [
    "y_pred1= model.predict(x_train)\n",
    "y_pred1 = [ 1 if y>=0.5 else 0 for y in y_pred1]\n",
    "from sklearn.metrics import accuracy_score\n",
    "print(\"Train Accuracy: \",accuracy_score(y_true = y_train, y_pred =y_pred1))"
   ]
  },
  {
   "cell_type": "markdown",
   "id": "98fee688",
   "metadata": {
    "papermill": {
     "duration": 0.096232,
     "end_time": "2021-10-06T17:32:38.130478",
     "exception": false,
     "start_time": "2021-10-06T17:32:38.034246",
     "status": "completed"
    },
    "tags": []
   },
   "source": [
    "# ****Test Accuracy****"
   ]
  },
  {
   "cell_type": "code",
   "execution_count": 19,
   "id": "a487433e",
   "metadata": {
    "execution": {
     "iopub.execute_input": "2021-10-06T17:32:38.324447Z",
     "iopub.status.busy": "2021-10-06T17:32:38.323092Z",
     "iopub.status.idle": "2021-10-06T17:32:38.361156Z",
     "shell.execute_reply": "2021-10-06T17:32:38.361701Z",
     "shell.execute_reply.started": "2021-10-06T16:44:21.209983Z"
    },
    "papermill": {
     "duration": 0.137128,
     "end_time": "2021-10-06T17:32:38.361884",
     "exception": false,
     "start_time": "2021-10-06T17:32:38.224756",
     "status": "completed"
    },
    "tags": []
   },
   "outputs": [
    {
     "name": "stdout",
     "output_type": "stream",
     "text": [
      "Test Accuracy:  0.9137931034482759\n"
     ]
    }
   ],
   "source": [
    "y_pred2= model.predict(x_test)\n",
    "y_pred2 = [ 1 if y>=0.5 else 0 for y in y_pred2]\n",
    "from sklearn.metrics import accuracy_score\n",
    "print(\"Test Accuracy: \",accuracy_score(y_true = y_test, y_pred =y_pred2))"
   ]
  },
  {
   "cell_type": "markdown",
   "id": "4a71e2d4",
   "metadata": {
    "papermill": {
     "duration": 0.093597,
     "end_time": "2021-10-06T17:32:38.549535",
     "exception": false,
     "start_time": "2021-10-06T17:32:38.455938",
     "status": "completed"
    },
    "tags": []
   },
   "source": [
    "# ****Precision, Recall, f1 score and Confusion Matrix Calculation****"
   ]
  },
  {
   "cell_type": "code",
   "execution_count": 20,
   "id": "b2808656",
   "metadata": {
    "execution": {
     "iopub.execute_input": "2021-10-06T17:32:38.758133Z",
     "iopub.status.busy": "2021-10-06T17:32:38.757539Z",
     "iopub.status.idle": "2021-10-06T17:32:38.769014Z",
     "shell.execute_reply": "2021-10-06T17:32:38.769868Z",
     "shell.execute_reply.started": "2021-10-06T16:44:35.181240Z"
    },
    "papermill": {
     "duration": 0.121068,
     "end_time": "2021-10-06T17:32:38.770067",
     "exception": false,
     "start_time": "2021-10-06T17:32:38.648999",
     "status": "completed"
    },
    "tags": []
   },
   "outputs": [
    {
     "name": "stdout",
     "output_type": "stream",
     "text": [
      "Precision: 1.0\n",
      "Recall:  0.8333333333333334\n",
      "f1 Score:  0.9090909090909091\n",
      "Confusion Matrix:\n",
      " [[28  0]\n",
      " [ 5 25]]\n"
     ]
    }
   ],
   "source": [
    "from sklearn.metrics import precision_score, recall_score, f1_score, confusion_matrix\n",
    "print(\"Precision:\",precision_score(y_true = y_test, y_pred =y_pred2))\n",
    "print(\"Recall: \",recall_score(y_true = y_test, y_pred =y_pred2))\n",
    "print(\"f1 Score: \",f1_score(y_true = y_test, y_pred =y_pred2))\n",
    "print(\"Confusion Matrix:\\n\",confusion_matrix(y_true = y_test, y_pred =y_pred2))\n"
   ]
  },
  {
   "cell_type": "code",
   "execution_count": 21,
   "id": "0aa5b6f2",
   "metadata": {
    "execution": {
     "iopub.execute_input": "2021-10-06T17:32:38.989393Z",
     "iopub.status.busy": "2021-10-06T17:32:38.979841Z",
     "iopub.status.idle": "2021-10-06T17:32:39.204532Z",
     "shell.execute_reply": "2021-10-06T17:32:39.204087Z",
     "shell.execute_reply.started": "2021-10-06T16:44:44.570261Z"
    },
    "papermill": {
     "duration": 0.338021,
     "end_time": "2021-10-06T17:32:39.204661",
     "exception": false,
     "start_time": "2021-10-06T17:32:38.866640",
     "status": "completed"
    },
    "tags": []
   },
   "outputs": [
    {
     "data": {
      "image/png": "[encoded data removed]",
      "text/plain": [
       "<Figure size 1008x504 with 2 Axes>"
      ]
     },
     "metadata": {
      "needs_background": "light"
     },
     "output_type": "display_data"
    }
   ],
   "source": [
    "cm = confusion_matrix(y_true = y_test, y_pred =y_pred2)\n",
    "plt.figure(figsize=[14,7])\n",
    "sb.heatmap(cm,annot=True)\n",
    "plt.show()"
   ]
  },
  {
   "cell_type": "markdown",
   "id": "a4639b19",
   "metadata": {
    "papermill": {
     "duration": 0.094366,
     "end_time": "2021-10-06T17:32:39.393813",
     "exception": false,
     "start_time": "2021-10-06T17:32:39.299447",
     "status": "completed"
    },
    "tags": []
   },
   "source": [
    "# ****Loss vs Epoch and Accuracy vs Epoch****"
   ]
  },
  {
   "cell_type": "code",
   "execution_count": 22,
   "id": "5f523204",
   "metadata": {
    "execution": {
     "iopub.execute_input": "2021-10-06T17:32:39.603590Z",
     "iopub.status.busy": "2021-10-06T17:32:39.593100Z",
     "iopub.status.idle": "2021-10-06T17:32:39.788402Z",
     "shell.execute_reply": "2021-10-06T17:32:39.788830Z",
     "shell.execute_reply.started": "2021-10-06T16:45:20.935511Z"
    },
    "papermill": {
     "duration": 0.29893,
     "end_time": "2021-10-06T17:32:39.788993",
     "exception": false,
     "start_time": "2021-10-06T17:32:39.490063",
     "status": "completed"
    },
    "tags": []
   },
   "outputs": [
    {
     "name": "stdout",
     "output_type": "stream",
     "text": [
      "dict_keys(['loss', 'accuracy', 'val_loss', 'val_accuracy'])\n"
     ]
    },
    {
     "data": {
      "image/png": "[encoded data removed]",
      "text/plain": [
       "<Figure size 432x288 with 1 Axes>"
      ]
     },
     "metadata": {
      "needs_background": "light"
     },
     "output_type": "display_data"
    }
   ],
   "source": [
    "\n",
    "print(history.history.keys())\n",
    "\n",
    "# summarize history for accuracy\n",
    "plt.plot(history.history[\"accuracy\"])\n",
    "plt.title('model accuracy')\n",
    "plt.ylabel('accuracy')\n",
    "plt.xlabel('epoch')\n",
    "plt.legend(['y_train', 'y_test'], loc='upper left')\n",
    "plt.show()"
   ]
  },
  {
   "cell_type": "code",
   "execution_count": 23,
   "id": "1297aeb0",
   "metadata": {
    "execution": {
     "iopub.execute_input": "2021-10-06T17:32:40.019942Z",
     "iopub.status.busy": "2021-10-06T17:32:40.006768Z",
     "iopub.status.idle": "2021-10-06T17:32:40.181703Z",
     "shell.execute_reply": "2021-10-06T17:32:40.181273Z",
     "shell.execute_reply.started": "2021-10-06T16:45:45.318164Z"
    },
    "papermill": {
     "duration": 0.294401,
     "end_time": "2021-10-06T17:32:40.181827",
     "exception": false,
     "start_time": "2021-10-06T17:32:39.887426",
     "status": "completed"
    },
    "tags": []
   },
   "outputs": [
    {
     "data": {
      "image/png": "[encoded data removed]",
      "text/plain": [
       "<Figure size 432x288 with 1 Axes>"
      ]
     },
     "metadata": {
      "needs_background": "light"
     },
     "output_type": "display_data"
    }
   ],
   "source": [
    "# summarize history for loss\n",
    "plt.plot(history.history['loss'])\n",
    "plt.title('model loss')\n",
    "plt.ylabel('loss')\n",
    "plt.xlabel('epoch')\n",
    "plt.legend(['train', 'test'], loc='upper left')\n",
    "plt.show()"
   ]
  },
  {
   "cell_type": "markdown",
   "id": "7a8507e3",
   "metadata": {
    "papermill": {
     "duration": 0.098032,
     "end_time": "2021-10-06T17:32:40.376363",
     "exception": false,
     "start_time": "2021-10-06T17:32:40.278331",
     "status": "completed"
    },
    "tags": []
   },
   "source": [
    "# ****Save the model along with the weights and then load the model****"
   ]
  },
  {
   "cell_type": "code",
   "execution_count": 24,
   "id": "ed258b9f",
   "metadata": {
    "execution": {
     "iopub.execute_input": "2021-10-06T17:32:40.579460Z",
     "iopub.status.busy": "2021-10-06T17:32:40.578582Z",
     "iopub.status.idle": "2021-10-06T17:32:40.669445Z",
     "shell.execute_reply": "2021-10-06T17:32:40.670062Z",
     "shell.execute_reply.started": "2021-10-06T16:45:57.784714Z"
    },
    "papermill": {
     "duration": 0.197898,
     "end_time": "2021-10-06T17:32:40.670230",
     "exception": false,
     "start_time": "2021-10-06T17:32:40.472332",
     "status": "completed"
    },
    "tags": []
   },
   "outputs": [
    {
     "name": "stdout",
     "output_type": "stream",
     "text": [
      "Model Summary:\n",
      "Model: \"sequential\"\n",
      "_________________________________________________________________\n",
      "Layer (type)                 Output Shape              Param #   \n",
      "=================================================================\n",
      "dense (Dense)                (None, 9)                 279       \n",
      "_________________________________________________________________\n",
      "dense_1 (Dense)              (None, 9)                 90        \n",
      "_________________________________________________________________\n",
      "dense_2 (Dense)              (None, 1)                 10        \n",
      "=================================================================\n",
      "Total params: 379\n",
      "Trainable params: 379\n",
      "Non-trainable params: 0\n",
      "_________________________________________________________________\n",
      "Model Optimizer:\n",
      "<tensorflow.python.keras.optimizer_v2.adam.Adam object at 0x7fb76c1615d0>\n",
      "Model Loss:\n",
      "<function binary_crossentropy at 0x7fb77847e290>\n",
      "Model Weights:\n",
      "[array([[ 1.87963266e-02,  1.38069421e-01, -3.57772887e-01,\n",
      "         1.60308644e-01, -2.12189227e-01,  1.46595731e-01,\n",
      "        -5.11556983e-01, -5.46414070e-02,  1.94696710e-01],\n",
      "       [-1.42329067e-01, -2.33857470e-04, -3.98019582e-01,\n",
      "         1.94737732e-01, -2.54606336e-01, -8.13010558e-02,\n",
      "        -4.98638481e-01, -2.27934867e-01, -1.15853958e-01],\n",
      "       [ 4.54098850e-01, -1.87396571e-01,  1.56655282e-01,\n",
      "         2.84350574e-01, -4.68357325e-01, -5.31637948e-03,\n",
      "        -3.97381425e-01, -2.65494168e-01,  4.83076900e-01],\n",
      "       [ 4.44086462e-01, -9.41530764e-02, -3.34057599e-01,\n",
      "        -2.53418326e-01, -5.27926147e-01,  2.15907037e-01,\n",
      "        -3.58892709e-01,  9.48986039e-02,  3.92987221e-01],\n",
      "       [-3.23979348e-01, -7.63489679e-02, -8.96786451e-02,\n",
      "        -5.02107620e-01, -3.68840456e-01, -2.51552671e-01,\n",
      "         4.12788749e-01, -9.57097337e-02,  2.32061386e-01],\n",
      "       [-2.92967886e-01, -4.67548966e-02, -4.11781579e-01,\n",
      "         1.07771486e-01,  1.19307950e-01, -8.74124020e-02,\n",
      "        -3.85475725e-01, -2.58693993e-01, -2.86697716e-01],\n",
      "       [-4.38117594e-01, -5.76861687e-02, -8.65453780e-02,\n",
      "        -6.59496197e-03, -5.64724803e-01, -4.90828790e-02,\n",
      "         1.33443311e-01, -1.26029342e-01,  4.87233132e-01],\n",
      "       [-2.03996688e-01, -8.98688510e-02, -5.15127480e-02,\n",
      "        -7.42042810e-03, -4.48212564e-01,  5.05121589e-01,\n",
      "        -1.49621055e-01,  3.27752948e-01,  4.38491136e-01],\n",
      "       [-3.56973499e-01, -5.16422577e-02,  8.48708767e-03,\n",
      "        -4.45783615e-01,  3.06368738e-01, -2.12729409e-01,\n",
      "         1.88407466e-01,  4.35863942e-01,  2.34498501e-01],\n",
      "       [-5.43164074e-01,  1.09381519e-01, -2.46385545e-01,\n",
      "        -7.41491988e-02, -3.32249999e-01, -3.25182229e-01,\n",
      "         5.25011182e-01,  4.27480906e-01,  8.00046921e-02],\n",
      "       [ 1.76898837e-01,  3.74397427e-01, -2.92732660e-02,\n",
      "        -5.79008043e-01,  1.49024218e-01,  3.76370192e-01,\n",
      "        -4.02682334e-01,  1.20908417e-01,  7.92175457e-02],\n",
      "       [-2.19174162e-01, -1.27725452e-01,  2.05583736e-01,\n",
      "         1.69556290e-01,  1.86349660e-01, -1.87335983e-01,\n",
      "        -1.58636272e-01, -2.74964739e-02, -2.34343797e-01],\n",
      "       [ 2.07552820e-01, -1.95325792e-01,  2.51038726e-02,\n",
      "        -3.35537493e-01, -3.61837119e-01,  4.67705548e-01,\n",
      "         8.09969231e-02, -1.05467718e-02,  4.32391644e-01],\n",
      "       [ 8.54605436e-02,  7.73367062e-02, -3.05507272e-01,\n",
      "        -3.93596947e-01, -2.72825629e-01, -2.84665912e-01,\n",
      "         2.07446620e-01,  3.07455212e-01,  1.36476427e-01],\n",
      "       [ 1.88594818e-01, -2.26503924e-01,  1.40616491e-01,\n",
      "        -3.64521265e-01,  2.38051444e-01, -2.25728318e-01,\n",
      "        -1.14402473e-01,  6.92645535e-02,  1.22617096e-01],\n",
      "       [ 2.44292915e-02, -4.03888226e-01,  1.46653473e-01,\n",
      "        -9.94624943e-02, -6.45489693e-02,  7.54112825e-02,\n",
      "        -3.75846028e-01, -2.46926099e-01, -1.56654850e-01],\n",
      "       [-8.63725170e-02, -1.13436185e-01,  2.10873559e-02,\n",
      "         3.21098030e-01, -1.90710023e-01, -3.49588953e-02,\n",
      "        -2.53089458e-01, -1.73819616e-01,  1.61021173e-01],\n",
      "       [ 1.84814200e-01, -3.43960673e-01, -3.72243553e-01,\n",
      "        -2.03238770e-01,  2.27392390e-01,  3.38143706e-01,\n",
      "         2.90410072e-01,  1.14250563e-01, -3.08419824e-01],\n",
      "       [ 4.51663077e-01,  2.42301926e-01,  4.34045285e-01,\n",
      "         4.53352928e-02, -3.33546817e-01, -4.41413432e-01,\n",
      "        -8.58751684e-02, -4.92130592e-02, -3.88451503e-03],\n",
      "       [-3.59923005e-01, -1.21500507e-01,  3.34870398e-01,\n",
      "         3.04707974e-01,  1.55114144e-01, -2.52511986e-02,\n",
      "        -1.78526744e-01, -9.45048407e-02, -1.52061926e-02],\n",
      "       [-1.33794338e-01,  1.71199515e-01, -2.05479637e-01,\n",
      "        -4.34678167e-01,  2.65066385e-01,  1.82968229e-01,\n",
      "         2.55997121e-01, -2.17249826e-01,  5.32900453e-01],\n",
      "       [ 3.82229894e-01,  5.02587080e-01, -9.37447324e-02,\n",
      "        -4.88097547e-03, -3.89536440e-01,  3.61250877e-01,\n",
      "        -5.41315198e-01, -6.20287359e-01,  1.87478617e-01],\n",
      "       [-2.37985864e-01,  2.61785537e-01, -3.86686713e-01,\n",
      "        -5.20709634e-01, -9.64535773e-03,  1.31638840e-01,\n",
      "        -2.45330155e-01,  3.88835639e-01,  5.29928625e-01],\n",
      "       [ 1.22777544e-01,  3.39471251e-01, -3.66140872e-01,\n",
      "         1.51331261e-01,  3.16438973e-02, -2.15926528e-01,\n",
      "         2.49335751e-01, -4.00644511e-01,  3.28792408e-02],\n",
      "       [-2.98113614e-01,  3.63892078e-01, -1.35646001e-01,\n",
      "        -5.84062040e-01,  1.38724327e-01,  4.71189231e-01,\n",
      "         3.87892574e-02, -3.17608327e-01,  1.18513130e-01],\n",
      "       [ 2.18257234e-01, -1.68070961e-02, -4.59287912e-02,\n",
      "         4.10064250e-01, -5.03369272e-01, -1.31583035e-01,\n",
      "        -2.03314602e-01, -1.30249768e-01,  1.85252979e-01],\n",
      "       [ 2.96165138e-01,  3.64302397e-01,  4.14170064e-02,\n",
      "        -1.38132140e-01, -2.81738229e-02,  3.41749966e-01,\n",
      "        -1.20779552e-01,  3.88498485e-01, -1.95448279e-01],\n",
      "       [ 2.89108336e-01, -3.53843458e-02,  1.09018952e-01,\n",
      "        -2.56104290e-01, -4.17744994e-01, -6.34749094e-03,\n",
      "         2.73488879e-01,  1.66086052e-02,  3.67799997e-01],\n",
      "       [ 1.81337267e-01,  1.56475157e-01, -4.83878821e-01,\n",
      "        -1.29121512e-01,  1.04896754e-01,  2.32961982e-01,\n",
      "         5.84371798e-02, -3.61578971e-01,  7.73709118e-02],\n",
      "       [-1.52953655e-01,  1.79798439e-01, -2.78440979e-03,\n",
      "        -1.91429369e-02,  4.26198356e-02, -4.70323980e-01,\n",
      "        -1.70336932e-01,  5.83072342e-02,  4.61031914e-01]], dtype=float32), array([ 0.11334136,  0.07255384,  0.20275612,  0.12831764,  0.19684952,\n",
      "       -0.00903958,  0.24200898,  0.02360467,  0.11439642], dtype=float32), array([[ 0.6602966 ,  0.10096236,  0.65789646, -0.1239858 ,  0.28194085,\n",
      "         0.45093608,  0.2855835 ,  0.2876965 , -0.23621146],\n",
      "       [ 0.26452044, -0.6514814 ,  0.75007445, -1.0394322 , -0.69823444,\n",
      "         0.23879805,  0.11440214,  0.8312497 ,  0.41154492],\n",
      "       [-0.17310368,  0.71783984, -0.53655535, -0.10169001,  0.7010074 ,\n",
      "        -0.05379019, -0.01942968, -0.66374195, -0.5582393 ],\n",
      "       [-0.20208628,  0.2295119 , -0.6172231 ,  0.15576296,  0.20507336,\n",
      "         0.30382645, -0.097934  ,  0.15621711, -0.5559378 ],\n",
      "       [-0.16855355,  0.78275734, -0.0380644 ,  0.6651205 , -0.31847006,\n",
      "         0.6012739 , -0.0295846 , -0.06690796, -0.6164141 ],\n",
      "       [ 0.4886372 , -0.58650535,  0.7139845 ,  0.05505471,  0.04168098,\n",
      "        -0.7697845 ,  0.8286222 , -0.11129352,  0.10612489],\n",
      "       [-0.7094417 ,  0.9074245 ,  0.14163442,  0.7734349 , -0.12530898,\n",
      "         0.49722597, -0.04920823,  0.12452849,  0.03725189],\n",
      "       [ 0.06612318, -0.0683908 , -0.09503595,  0.27615035, -0.09584858,\n",
      "         0.2309576 , -0.71802664, -0.11910299, -0.8169694 ],\n",
      "       [ 0.6375558 , -0.21375664,  0.1779566 , -0.07282197,  0.26799268,\n",
      "        -0.4856343 ,  0.8836227 ,  0.3813407 ,  0.8681471 ]],\n",
      "      dtype=float32), array([-0.02398258,  0.24059665, -0.03476328,  0.4203262 ,  0.19048613,\n",
      "        0.23086527, -0.02090938, -0.06278297,  0.14821994], dtype=float32), array([[ 0.50723374],\n",
      "       [-0.63643575],\n",
      "       [ 0.5884146 ],\n",
      "       [-0.31708193],\n",
      "       [-0.60824144],\n",
      "       [-0.3347377 ],\n",
      "       [ 0.1992134 ],\n",
      "       [ 0.1908933 ],\n",
      "       [ 0.92692477]], dtype=float32), array([-0.15250547], dtype=float32)]\n"
     ]
    }
   ],
   "source": [
    "import os.path\n",
    "if os.path.isfile('models/breast_cancer_model.h5') is False:\n",
    " model.save('models/breast_cancer_model.h5')\n",
    "#Load the model\n",
    "from tensorflow.keras.models import load_model\n",
    "new_model = load_model('models/breast_cancer_model.h5')\n",
    "#Visualizing the model\n",
    "print(\"Model Summary:\")\n",
    "new_model.summary()\n",
    "print(\"Model Optimizer:\")\n",
    "print(new_model.optimizer)\n",
    "print(\"Model Loss:\")\n",
    "print(new_model.loss)\n",
    "print(\"Model Weights:\")\n",
    "print(new_model.get_weights())"
   ]
  },
  {
   "cell_type": "markdown",
   "id": "381e600f",
   "metadata": {
    "papermill": {
     "duration": 0.099709,
     "end_time": "2021-10-06T17:32:40.870088",
     "exception": false,
     "start_time": "2021-10-06T17:32:40.770379",
     "status": "completed"
    },
    "tags": []
   },
   "source": [
    "# ****(Architecture 2)****"
   ]
  },
  {
   "cell_type": "code",
   "execution_count": 25,
   "id": "b078c193",
   "metadata": {
    "execution": {
     "iopub.execute_input": "2021-10-06T17:32:41.077645Z",
     "iopub.status.busy": "2021-10-06T17:32:41.076757Z",
     "iopub.status.idle": "2021-10-06T17:32:41.108445Z",
     "shell.execute_reply": "2021-10-06T17:32:41.107915Z",
     "shell.execute_reply.started": "2021-10-06T16:46:19.792795Z"
    },
    "papermill": {
     "duration": 0.140988,
     "end_time": "2021-10-06T17:32:41.108581",
     "exception": false,
     "start_time": "2021-10-06T17:32:40.967593",
     "status": "completed"
    },
    "tags": []
   },
   "outputs": [],
   "source": [
    "#first hidden layer, second hidden layer, third layer  and last layer or output layer\n",
    "model1 = Sequential([\n",
    " Dense(units=9,kernel_initializer='he_uniform',activation='relu',input_dim=30),\n",
    " Dense(units=9,kernel_initializer='he_uniform',activation='relu'),\n",
    "  Dense(units=9,kernel_initializer='he_uniform',activation='relu'),\n",
    " Dense(units=1,kernel_initializer='glorot_uniform',activation='sigmoid'),\n",
    "])"
   ]
  },
  {
   "cell_type": "code",
   "execution_count": 26,
   "id": "ea494747",
   "metadata": {
    "execution": {
     "iopub.execute_input": "2021-10-06T17:32:41.317105Z",
     "iopub.status.busy": "2021-10-06T17:32:41.316433Z",
     "iopub.status.idle": "2021-10-06T17:32:41.319483Z",
     "shell.execute_reply": "2021-10-06T17:32:41.320058Z",
     "shell.execute_reply.started": "2021-10-06T16:46:29.082909Z"
    },
    "papermill": {
     "duration": 0.112195,
     "end_time": "2021-10-06T17:32:41.320252",
     "exception": false,
     "start_time": "2021-10-06T17:32:41.208057",
     "status": "completed"
    },
    "tags": []
   },
   "outputs": [
    {
     "name": "stdout",
     "output_type": "stream",
     "text": [
      "Model: \"sequential_1\"\n",
      "_________________________________________________________________\n",
      "Layer (type)                 Output Shape              Param #   \n",
      "=================================================================\n",
      "dense_3 (Dense)              (None, 9)                 279       \n",
      "_________________________________________________________________\n",
      "dense_4 (Dense)              (None, 9)                 90        \n",
      "_________________________________________________________________\n",
      "dense_5 (Dense)              (None, 9)                 90        \n",
      "_________________________________________________________________\n",
      "dense_6 (Dense)              (None, 1)                 10        \n",
      "=================================================================\n",
      "Total params: 469\n",
      "Trainable params: 469\n",
      "Non-trainable params: 0\n",
      "_________________________________________________________________\n"
     ]
    }
   ],
   "source": [
    "#taking summary of layers\n",
    "model1.summary()"
   ]
  },
  {
   "cell_type": "code",
   "execution_count": 27,
   "id": "1a626355",
   "metadata": {
    "execution": {
     "iopub.execute_input": "2021-10-06T17:32:41.529448Z",
     "iopub.status.busy": "2021-10-06T17:32:41.528067Z",
     "iopub.status.idle": "2021-10-06T17:32:41.532250Z",
     "shell.execute_reply": "2021-10-06T17:32:41.531806Z",
     "shell.execute_reply.started": "2021-10-06T16:46:53.170093Z"
    },
    "papermill": {
     "duration": 0.113712,
     "end_time": "2021-10-06T17:32:41.532376",
     "exception": false,
     "start_time": "2021-10-06T17:32:41.418664",
     "status": "completed"
    },
    "tags": []
   },
   "outputs": [],
   "source": [
    "#compiling the ANN\n",
    "model1.compile('Adam',\n",
    " loss='binary_crossentropy',\n",
    " metrics=['accuracy'])"
   ]
  },
  {
   "cell_type": "code",
   "execution_count": 28,
   "id": "bd0dcf83",
   "metadata": {
    "execution": {
     "iopub.execute_input": "2021-10-06T17:32:41.750956Z",
     "iopub.status.busy": "2021-10-06T17:32:41.748445Z",
     "iopub.status.idle": "2021-10-06T17:32:48.049223Z",
     "shell.execute_reply": "2021-10-06T17:32:48.049607Z",
     "shell.execute_reply.started": "2021-10-06T16:47:41.856971Z"
    },
    "papermill": {
     "duration": 6.415424,
     "end_time": "2021-10-06T17:32:48.049755",
     "exception": false,
     "start_time": "2021-10-06T17:32:41.634331",
     "status": "completed"
    },
    "tags": []
   },
   "outputs": [
    {
     "name": "stdout",
     "output_type": "stream",
     "text": [
      "Epoch 1/100\n",
      "5/5 [==============================] - 1s 44ms/step - loss: 0.5985 - accuracy: 0.7511 - val_loss: 0.5829 - val_accuracy: 0.6941\n",
      "Epoch 2/100\n",
      "5/5 [==============================] - 0s 13ms/step - loss: 0.5737 - accuracy: 0.7597 - val_loss: 0.5519 - val_accuracy: 0.7059\n",
      "Epoch 3/100\n",
      "5/5 [==============================] - 0s 12ms/step - loss: 0.5275 - accuracy: 0.7819 - val_loss: 0.5202 - val_accuracy: 0.7529\n",
      "Epoch 4/100\n",
      "5/5 [==============================] - 0s 13ms/step - loss: 0.5004 - accuracy: 0.8012 - val_loss: 0.4902 - val_accuracy: 0.7529\n",
      "Epoch 5/100\n",
      "5/5 [==============================] - 0s 12ms/step - loss: 0.4657 - accuracy: 0.8187 - val_loss: 0.4631 - val_accuracy: 0.7882\n",
      "Epoch 6/100\n",
      "5/5 [==============================] - 0s 11ms/step - loss: 0.4835 - accuracy: 0.8020 - val_loss: 0.4383 - val_accuracy: 0.8235\n",
      "Epoch 7/100\n",
      "5/5 [==============================] - 0s 12ms/step - loss: 0.4403 - accuracy: 0.8254 - val_loss: 0.4149 - val_accuracy: 0.8118\n",
      "Epoch 8/100\n",
      "5/5 [==============================] - 0s 12ms/step - loss: 0.4023 - accuracy: 0.8550 - val_loss: 0.3938 - val_accuracy: 0.8353\n",
      "Epoch 9/100\n",
      "5/5 [==============================] - 0s 12ms/step - loss: 0.4016 - accuracy: 0.8494 - val_loss: 0.3743 - val_accuracy: 0.8471\n",
      "Epoch 10/100\n",
      "5/5 [==============================] - 0s 12ms/step - loss: 0.3739 - accuracy: 0.8623 - val_loss: 0.3563 - val_accuracy: 0.8706\n",
      "Epoch 11/100\n",
      "5/5 [==============================] - 0s 12ms/step - loss: 0.3403 - accuracy: 0.8757 - val_loss: 0.3394 - val_accuracy: 0.8706\n",
      "Epoch 12/100\n",
      "5/5 [==============================] - 0s 12ms/step - loss: 0.3376 - accuracy: 0.8677 - val_loss: 0.3238 - val_accuracy: 0.8706\n",
      "Epoch 13/100\n",
      "5/5 [==============================] - 0s 12ms/step - loss: 0.3320 - accuracy: 0.8701 - val_loss: 0.3090 - val_accuracy: 0.8706\n",
      "Epoch 14/100\n",
      "5/5 [==============================] - 0s 12ms/step - loss: 0.3278 - accuracy: 0.8655 - val_loss: 0.2946 - val_accuracy: 0.8706\n",
      "Epoch 15/100\n",
      "5/5 [==============================] - 0s 13ms/step - loss: 0.2867 - accuracy: 0.9003 - val_loss: 0.2808 - val_accuracy: 0.8941\n",
      "Epoch 16/100\n",
      "5/5 [==============================] - 0s 13ms/step - loss: 0.2939 - accuracy: 0.8752 - val_loss: 0.2689 - val_accuracy: 0.8941\n",
      "Epoch 17/100\n",
      "5/5 [==============================] - 0s 13ms/step - loss: 0.2685 - accuracy: 0.9148 - val_loss: 0.2566 - val_accuracy: 0.8941\n",
      "Epoch 18/100\n",
      "5/5 [==============================] - 0s 13ms/step - loss: 0.2495 - accuracy: 0.9082 - val_loss: 0.2462 - val_accuracy: 0.8941\n",
      "Epoch 19/100\n",
      "5/5 [==============================] - 0s 12ms/step - loss: 0.2419 - accuracy: 0.9157 - val_loss: 0.2377 - val_accuracy: 0.9059\n",
      "Epoch 20/100\n",
      "5/5 [==============================] - 0s 12ms/step - loss: 0.2585 - accuracy: 0.9058 - val_loss: 0.2291 - val_accuracy: 0.9176\n",
      "Epoch 21/100\n",
      "5/5 [==============================] - 0s 12ms/step - loss: 0.2163 - accuracy: 0.9343 - val_loss: 0.2201 - val_accuracy: 0.9176\n",
      "Epoch 22/100\n",
      "5/5 [==============================] - 0s 12ms/step - loss: 0.2344 - accuracy: 0.9198 - val_loss: 0.2116 - val_accuracy: 0.9176\n",
      "Epoch 23/100\n",
      "5/5 [==============================] - 0s 12ms/step - loss: 0.2217 - accuracy: 0.9147 - val_loss: 0.2034 - val_accuracy: 0.9176\n",
      "Epoch 24/100\n",
      "5/5 [==============================] - 0s 13ms/step - loss: 0.2088 - accuracy: 0.9225 - val_loss: 0.1960 - val_accuracy: 0.9176\n",
      "Epoch 25/100\n",
      "5/5 [==============================] - 0s 11ms/step - loss: 0.2435 - accuracy: 0.9108 - val_loss: 0.1902 - val_accuracy: 0.9176\n",
      "Epoch 26/100\n",
      "5/5 [==============================] - 0s 12ms/step - loss: 0.2000 - accuracy: 0.9268 - val_loss: 0.1847 - val_accuracy: 0.9294\n",
      "Epoch 27/100\n",
      "5/5 [==============================] - 0s 12ms/step - loss: 0.1972 - accuracy: 0.9288 - val_loss: 0.1798 - val_accuracy: 0.9294\n",
      "Epoch 28/100\n",
      "5/5 [==============================] - 0s 12ms/step - loss: 0.2086 - accuracy: 0.9222 - val_loss: 0.1756 - val_accuracy: 0.9294\n",
      "Epoch 29/100\n",
      "5/5 [==============================] - 0s 12ms/step - loss: 0.1845 - accuracy: 0.9340 - val_loss: 0.1718 - val_accuracy: 0.9529\n",
      "Epoch 30/100\n",
      "5/5 [==============================] - 0s 12ms/step - loss: 0.1806 - accuracy: 0.9413 - val_loss: 0.1675 - val_accuracy: 0.9529\n",
      "Epoch 31/100\n",
      "5/5 [==============================] - 0s 12ms/step - loss: 0.1896 - accuracy: 0.9364 - val_loss: 0.1642 - val_accuracy: 0.9529\n",
      "Epoch 32/100\n",
      "5/5 [==============================] - 0s 12ms/step - loss: 0.1800 - accuracy: 0.9392 - val_loss: 0.1606 - val_accuracy: 0.9529\n",
      "Epoch 33/100\n",
      "5/5 [==============================] - 0s 11ms/step - loss: 0.1691 - accuracy: 0.9495 - val_loss: 0.1571 - val_accuracy: 0.9412\n",
      "Epoch 34/100\n",
      "5/5 [==============================] - 0s 11ms/step - loss: 0.1658 - accuracy: 0.9535 - val_loss: 0.1541 - val_accuracy: 0.9412\n",
      "Epoch 35/100\n",
      "5/5 [==============================] - 0s 12ms/step - loss: 0.1647 - accuracy: 0.9440 - val_loss: 0.1515 - val_accuracy: 0.9412\n",
      "Epoch 36/100\n",
      "5/5 [==============================] - 0s 12ms/step - loss: 0.1596 - accuracy: 0.9497 - val_loss: 0.1488 - val_accuracy: 0.9412\n",
      "Epoch 37/100\n",
      "5/5 [==============================] - 0s 12ms/step - loss: 0.1428 - accuracy: 0.9603 - val_loss: 0.1468 - val_accuracy: 0.9412\n",
      "Epoch 38/100\n",
      "5/5 [==============================] - 0s 12ms/step - loss: 0.1674 - accuracy: 0.9523 - val_loss: 0.1452 - val_accuracy: 0.9412\n",
      "Epoch 39/100\n",
      "5/5 [==============================] - 0s 13ms/step - loss: 0.1503 - accuracy: 0.9553 - val_loss: 0.1428 - val_accuracy: 0.9412\n",
      "Epoch 40/100\n",
      "5/5 [==============================] - 0s 12ms/step - loss: 0.1505 - accuracy: 0.9480 - val_loss: 0.1406 - val_accuracy: 0.9412\n",
      "Epoch 41/100\n",
      "5/5 [==============================] - 0s 13ms/step - loss: 0.1375 - accuracy: 0.9622 - val_loss: 0.1385 - val_accuracy: 0.9412\n",
      "Epoch 42/100\n",
      "5/5 [==============================] - 0s 13ms/step - loss: 0.1536 - accuracy: 0.9494 - val_loss: 0.1362 - val_accuracy: 0.9412\n",
      "Epoch 43/100\n",
      "5/5 [==============================] - 0s 12ms/step - loss: 0.1385 - accuracy: 0.9589 - val_loss: 0.1339 - val_accuracy: 0.9412\n",
      "Epoch 44/100\n",
      "5/5 [==============================] - 0s 13ms/step - loss: 0.1296 - accuracy: 0.9610 - val_loss: 0.1317 - val_accuracy: 0.9412\n",
      "Epoch 45/100\n",
      "5/5 [==============================] - 0s 13ms/step - loss: 0.1395 - accuracy: 0.9493 - val_loss: 0.1290 - val_accuracy: 0.9412\n",
      "Epoch 46/100\n",
      "5/5 [==============================] - 0s 13ms/step - loss: 0.1362 - accuracy: 0.9504 - val_loss: 0.1263 - val_accuracy: 0.9529\n",
      "Epoch 47/100\n",
      "5/5 [==============================] - 0s 12ms/step - loss: 0.1322 - accuracy: 0.9583 - val_loss: 0.1241 - val_accuracy: 0.9529\n",
      "Epoch 48/100\n",
      "5/5 [==============================] - 0s 12ms/step - loss: 0.1290 - accuracy: 0.9556 - val_loss: 0.1222 - val_accuracy: 0.9529\n",
      "Epoch 49/100\n",
      "5/5 [==============================] - 0s 12ms/step - loss: 0.1064 - accuracy: 0.9646 - val_loss: 0.1198 - val_accuracy: 0.9529\n",
      "Epoch 50/100\n",
      "5/5 [==============================] - 0s 13ms/step - loss: 0.1120 - accuracy: 0.9673 - val_loss: 0.1180 - val_accuracy: 0.9529\n",
      "Epoch 51/100\n",
      "5/5 [==============================] - 0s 13ms/step - loss: 0.1095 - accuracy: 0.9690 - val_loss: 0.1159 - val_accuracy: 0.9647\n",
      "Epoch 52/100\n",
      "5/5 [==============================] - 0s 12ms/step - loss: 0.1061 - accuracy: 0.9646 - val_loss: 0.1138 - val_accuracy: 0.9647\n",
      "Epoch 53/100\n",
      "5/5 [==============================] - 0s 13ms/step - loss: 0.1039 - accuracy: 0.9700 - val_loss: 0.1117 - val_accuracy: 0.9647\n",
      "Epoch 54/100\n",
      "5/5 [==============================] - 0s 12ms/step - loss: 0.0974 - accuracy: 0.9693 - val_loss: 0.1097 - val_accuracy: 0.9647\n",
      "Epoch 55/100\n",
      "5/5 [==============================] - 0s 12ms/step - loss: 0.0894 - accuracy: 0.9753 - val_loss: 0.1065 - val_accuracy: 0.9647\n",
      "Epoch 56/100\n",
      "5/5 [==============================] - 0s 13ms/step - loss: 0.0892 - accuracy: 0.9729 - val_loss: 0.1048 - val_accuracy: 0.9647\n",
      "Epoch 57/100\n",
      "5/5 [==============================] - 0s 14ms/step - loss: 0.0939 - accuracy: 0.9671 - val_loss: 0.1029 - val_accuracy: 0.9647\n",
      "Epoch 58/100\n",
      "5/5 [==============================] - 0s 13ms/step - loss: 0.0931 - accuracy: 0.9711 - val_loss: 0.1008 - val_accuracy: 0.9647\n",
      "Epoch 59/100\n",
      "5/5 [==============================] - 0s 13ms/step - loss: 0.0942 - accuracy: 0.9687 - val_loss: 0.0990 - val_accuracy: 0.9647\n",
      "Epoch 60/100\n",
      "5/5 [==============================] - 0s 13ms/step - loss: 0.0907 - accuracy: 0.9655 - val_loss: 0.0966 - val_accuracy: 0.9647\n",
      "Epoch 61/100\n",
      "5/5 [==============================] - 0s 16ms/step - loss: 0.1025 - accuracy: 0.9640 - val_loss: 0.0953 - val_accuracy: 0.9647\n",
      "Epoch 62/100\n",
      "5/5 [==============================] - 0s 25ms/step - loss: 0.0832 - accuracy: 0.9758 - val_loss: 0.0938 - val_accuracy: 0.9647\n",
      "Epoch 63/100\n",
      "5/5 [==============================] - 0s 18ms/step - loss: 0.0894 - accuracy: 0.9654 - val_loss: 0.0928 - val_accuracy: 0.9647\n",
      "Epoch 64/100\n",
      "5/5 [==============================] - 0s 18ms/step - loss: 0.0815 - accuracy: 0.9690 - val_loss: 0.0926 - val_accuracy: 0.9647\n",
      "Epoch 65/100\n",
      "5/5 [==============================] - 0s 19ms/step - loss: 0.0961 - accuracy: 0.9714 - val_loss: 0.0920 - val_accuracy: 0.9647\n",
      "Epoch 66/100\n",
      "5/5 [==============================] - 0s 18ms/step - loss: 0.0800 - accuracy: 0.9778 - val_loss: 0.0911 - val_accuracy: 0.9647\n",
      "Epoch 67/100\n",
      "5/5 [==============================] - 0s 18ms/step - loss: 0.0844 - accuracy: 0.9717 - val_loss: 0.0900 - val_accuracy: 0.9647\n",
      "Epoch 68/100\n",
      "5/5 [==============================] - 0s 14ms/step - loss: 0.0857 - accuracy: 0.9750 - val_loss: 0.0874 - val_accuracy: 0.9647\n",
      "Epoch 69/100\n",
      "5/5 [==============================] - 0s 12ms/step - loss: 0.0847 - accuracy: 0.9783 - val_loss: 0.0853 - val_accuracy: 0.9647\n",
      "Epoch 70/100\n",
      "5/5 [==============================] - 0s 12ms/step - loss: 0.0775 - accuracy: 0.9768 - val_loss: 0.0825 - val_accuracy: 0.9647\n",
      "Epoch 71/100\n",
      "5/5 [==============================] - 0s 12ms/step - loss: 0.0827 - accuracy: 0.9727 - val_loss: 0.0803 - val_accuracy: 0.9647\n",
      "Epoch 72/100\n",
      "5/5 [==============================] - 0s 12ms/step - loss: 0.0736 - accuracy: 0.9779 - val_loss: 0.0789 - val_accuracy: 0.9647\n",
      "Epoch 73/100\n",
      "5/5 [==============================] - 0s 11ms/step - loss: 0.0742 - accuracy: 0.9787 - val_loss: 0.0773 - val_accuracy: 0.9647\n",
      "Epoch 74/100\n",
      "5/5 [==============================] - 0s 11ms/step - loss: 0.0936 - accuracy: 0.9681 - val_loss: 0.0763 - val_accuracy: 0.9647\n",
      "Epoch 75/100\n",
      "5/5 [==============================] - 0s 12ms/step - loss: 0.0731 - accuracy: 0.9794 - val_loss: 0.0751 - val_accuracy: 0.9647\n",
      "Epoch 76/100\n",
      "5/5 [==============================] - 0s 12ms/step - loss: 0.0785 - accuracy: 0.9736 - val_loss: 0.0740 - val_accuracy: 0.9647\n",
      "Epoch 77/100\n",
      "5/5 [==============================] - 0s 11ms/step - loss: 0.0751 - accuracy: 0.9747 - val_loss: 0.0729 - val_accuracy: 0.9647\n",
      "Epoch 78/100\n",
      "5/5 [==============================] - 0s 12ms/step - loss: 0.0705 - accuracy: 0.9751 - val_loss: 0.0723 - val_accuracy: 0.9647\n",
      "Epoch 79/100\n",
      "5/5 [==============================] - 0s 11ms/step - loss: 0.0634 - accuracy: 0.9772 - val_loss: 0.0723 - val_accuracy: 0.9647\n",
      "Epoch 80/100\n",
      "5/5 [==============================] - 0s 12ms/step - loss: 0.0690 - accuracy: 0.9741 - val_loss: 0.0711 - val_accuracy: 0.9647\n",
      "Epoch 81/100\n",
      "5/5 [==============================] - 0s 13ms/step - loss: 0.0662 - accuracy: 0.9816 - val_loss: 0.0696 - val_accuracy: 0.9765\n",
      "Epoch 82/100\n",
      "5/5 [==============================] - 0s 13ms/step - loss: 0.0641 - accuracy: 0.9796 - val_loss: 0.0685 - val_accuracy: 0.9765\n",
      "Epoch 83/100\n",
      "5/5 [==============================] - 0s 12ms/step - loss: 0.0630 - accuracy: 0.9763 - val_loss: 0.0675 - val_accuracy: 0.9765\n",
      "Epoch 84/100\n",
      "5/5 [==============================] - 0s 12ms/step - loss: 0.0649 - accuracy: 0.9821 - val_loss: 0.0666 - val_accuracy: 0.9765\n",
      "Epoch 85/100\n",
      "5/5 [==============================] - 0s 13ms/step - loss: 0.0737 - accuracy: 0.9787 - val_loss: 0.0659 - val_accuracy: 0.9765\n",
      "Epoch 86/100\n",
      "5/5 [==============================] - 0s 11ms/step - loss: 0.0706 - accuracy: 0.9800 - val_loss: 0.0653 - val_accuracy: 0.9765\n",
      "Epoch 87/100\n",
      "5/5 [==============================] - 0s 12ms/step - loss: 0.0550 - accuracy: 0.9835 - val_loss: 0.0631 - val_accuracy: 0.9765\n",
      "Epoch 88/100\n",
      "5/5 [==============================] - 0s 13ms/step - loss: 0.0657 - accuracy: 0.9812 - val_loss: 0.0613 - val_accuracy: 0.9765\n",
      "Epoch 89/100\n",
      "5/5 [==============================] - 0s 14ms/step - loss: 0.0657 - accuracy: 0.9797 - val_loss: 0.0602 - val_accuracy: 0.9765\n",
      "Epoch 90/100\n",
      "5/5 [==============================] - 0s 11ms/step - loss: 0.0532 - accuracy: 0.9866 - val_loss: 0.0592 - val_accuracy: 0.9882\n",
      "Epoch 91/100\n",
      "5/5 [==============================] - 0s 12ms/step - loss: 0.0579 - accuracy: 0.9830 - val_loss: 0.0589 - val_accuracy: 0.9882\n",
      "Epoch 92/100\n",
      "5/5 [==============================] - 0s 13ms/step - loss: 0.0575 - accuracy: 0.9864 - val_loss: 0.0588 - val_accuracy: 0.9765\n",
      "Epoch 93/100\n",
      "5/5 [==============================] - 0s 12ms/step - loss: 0.0528 - accuracy: 0.9868 - val_loss: 0.0590 - val_accuracy: 0.9765\n",
      "Epoch 94/100\n",
      "5/5 [==============================] - 0s 12ms/step - loss: 0.0549 - accuracy: 0.9853 - val_loss: 0.0587 - val_accuracy: 0.9765\n",
      "Epoch 95/100\n",
      "5/5 [==============================] - 0s 11ms/step - loss: 0.0499 - accuracy: 0.9906 - val_loss: 0.0587 - val_accuracy: 0.9765\n",
      "Epoch 96/100\n",
      "5/5 [==============================] - 0s 12ms/step - loss: 0.0599 - accuracy: 0.9846 - val_loss: 0.0591 - val_accuracy: 0.9765\n",
      "Epoch 97/100\n",
      "5/5 [==============================] - 0s 12ms/step - loss: 0.0669 - accuracy: 0.9786 - val_loss: 0.0593 - val_accuracy: 0.9765\n",
      "Epoch 98/100\n",
      "5/5 [==============================] - 0s 11ms/step - loss: 0.0523 - accuracy: 0.9872 - val_loss: 0.0593 - val_accuracy: 0.9765\n",
      "Epoch 99/100\n",
      "5/5 [==============================] - 0s 12ms/step - loss: 0.0514 - accuracy: 0.9834 - val_loss: 0.0592 - val_accuracy: 0.9765\n",
      "Epoch 100/100\n",
      "5/5 [==============================] - 0s 12ms/step - loss: 0.0596 - accuracy: 0.9822 - val_loss: 0.0578 - val_accuracy: 0.9765\n"
     ]
    }
   ],
   "source": [
    "history1=model1.fit(x_train,\n",
    " y_train,\n",
    " validation_data=(x_val, y_val),\n",
    " batch_size=100,\n",
    " epochs=100,\n",
    " verbose=1)\n"
   ]
  },
  {
   "cell_type": "code",
   "execution_count": 29,
   "id": "6280369b",
   "metadata": {
    "execution": {
     "iopub.execute_input": "2021-10-06T17:32:48.361210Z",
     "iopub.status.busy": "2021-10-06T17:32:48.360377Z",
     "iopub.status.idle": "2021-10-06T17:32:48.434222Z",
     "shell.execute_reply": "2021-10-06T17:32:48.434796Z",
     "shell.execute_reply.started": "2021-10-06T16:48:05.497582Z"
    },
    "papermill": {
     "duration": 0.230098,
     "end_time": "2021-10-06T17:32:48.434985",
     "exception": false,
     "start_time": "2021-10-06T17:32:48.204887",
     "status": "completed"
    },
    "tags": []
   },
   "outputs": [
    {
     "name": "stdout",
     "output_type": "stream",
     "text": [
      "Train Accuracy:  0.9859154929577465\n"
     ]
    }
   ],
   "source": [
    "y_pred1= model1.predict(x_train)\n",
    "y_pred1 = [ 1 if y>=0.5 else 0 for y in y_pred1]\n",
    "from sklearn.metrics import accuracy_score\n",
    "print(\"Train Accuracy: \",accuracy_score(y_true = y_train, y_pred =y_pred1))"
   ]
  },
  {
   "cell_type": "code",
   "execution_count": 30,
   "id": "3bf973f9",
   "metadata": {
    "execution": {
     "iopub.execute_input": "2021-10-06T17:32:48.741063Z",
     "iopub.status.busy": "2021-10-06T17:32:48.740201Z",
     "iopub.status.idle": "2021-10-06T17:32:48.780225Z",
     "shell.execute_reply": "2021-10-06T17:32:48.779363Z",
     "shell.execute_reply.started": "2021-10-06T16:48:15.444458Z"
    },
    "papermill": {
     "duration": 0.19524,
     "end_time": "2021-10-06T17:32:48.780404",
     "exception": false,
     "start_time": "2021-10-06T17:32:48.585164",
     "status": "completed"
    },
    "tags": []
   },
   "outputs": [
    {
     "name": "stdout",
     "output_type": "stream",
     "text": [
      "Test Accuracy:  0.8620689655172413\n"
     ]
    }
   ],
   "source": [
    "y_pred2= model1.predict(x_test)\n",
    "y_pred2 = [ 1 if y>=0.5 else 0 for y in y_pred2]\n",
    "from sklearn.metrics import accuracy_score\n",
    "print(\"Test Accuracy: \",accuracy_score(y_true = y_test, y_pred =y_pred2))"
   ]
  },
  {
   "cell_type": "code",
   "execution_count": 31,
   "id": "501d4823",
   "metadata": {
    "execution": {
     "iopub.execute_input": "2021-10-06T17:32:49.091037Z",
     "iopub.status.busy": "2021-10-06T17:32:49.090090Z",
     "iopub.status.idle": "2021-10-06T17:32:49.099055Z",
     "shell.execute_reply": "2021-10-06T17:32:49.098649Z",
     "shell.execute_reply.started": "2021-10-06T16:48:28.569432Z"
    },
    "papermill": {
     "duration": 0.165773,
     "end_time": "2021-10-06T17:32:49.099210",
     "exception": false,
     "start_time": "2021-10-06T17:32:48.933437",
     "status": "completed"
    },
    "tags": []
   },
   "outputs": [
    {
     "name": "stdout",
     "output_type": "stream",
     "text": [
      "Precision: 1.0\n",
      "Recall:  0.7333333333333333\n",
      "f1 Score:  0.846153846153846\n",
      "Confusion Matrix:\n",
      " [[28  0]\n",
      " [ 8 22]]\n"
     ]
    }
   ],
   "source": [
    "from sklearn.metrics import precision_score, recall_score, f1_score, confusion_matrix\n",
    "print(\"Precision:\",precision_score(y_true = y_test, y_pred =y_pred2))\n",
    "print(\"Recall: \",recall_score(y_true = y_test, y_pred =y_pred2))\n",
    "print(\"f1 Score: \",f1_score(y_true = y_test, y_pred =y_pred2))\n",
    "print(\"Confusion Matrix:\\n\",confusion_matrix(y_true = y_test, y_pred =y_pred2))"
   ]
  },
  {
   "cell_type": "code",
   "execution_count": 32,
   "id": "0e3133a4",
   "metadata": {
    "execution": {
     "iopub.execute_input": "2021-10-06T17:32:49.417675Z",
     "iopub.status.busy": "2021-10-06T17:32:49.413352Z",
     "iopub.status.idle": "2021-10-06T17:32:49.623825Z",
     "shell.execute_reply": "2021-10-06T17:32:49.623328Z",
     "shell.execute_reply.started": "2021-10-06T16:48:38.552879Z"
    },
    "papermill": {
     "duration": 0.374653,
     "end_time": "2021-10-06T17:32:49.623945",
     "exception": false,
     "start_time": "2021-10-06T17:32:49.249292",
     "status": "completed"
    },
    "tags": []
   },
   "outputs": [
    {
     "data": {
      "image/png": "[encoded data removed]",
      "text/plain": [
       "<Figure size 1008x504 with 2 Axes>"
      ]
     },
     "metadata": {
      "needs_background": "light"
     },
     "output_type": "display_data"
    }
   ],
   "source": [
    "cm = confusion_matrix(y_true = y_test, y_pred =y_pred2)\n",
    "plt.figure(figsize=[14,7])\n",
    "sb.heatmap(cm,annot=True)\n",
    "plt.show()"
   ]
  },
  {
   "cell_type": "code",
   "execution_count": 33,
   "id": "ac5033c4",
   "metadata": {
    "execution": {
     "iopub.execute_input": "2021-10-06T17:32:49.947953Z",
     "iopub.status.busy": "2021-10-06T17:32:49.934201Z",
     "iopub.status.idle": "2021-10-06T17:32:50.133744Z",
     "shell.execute_reply": "2021-10-06T17:32:50.134180Z",
     "shell.execute_reply.started": "2021-10-06T16:49:11.881485Z"
    },
    "papermill": {
     "duration": 0.358785,
     "end_time": "2021-10-06T17:32:50.134347",
     "exception": false,
     "start_time": "2021-10-06T17:32:49.775562",
     "status": "completed"
    },
    "tags": []
   },
   "outputs": [
    {
     "name": "stdout",
     "output_type": "stream",
     "text": [
      "dict_keys(['loss', 'accuracy', 'val_loss', 'val_accuracy'])\n"
     ]
    },
    {
     "data": {
      "image/png": "[encoded data removed]",
      "text/plain": [
       "<Figure size 432x288 with 1 Axes>"
      ]
     },
     "metadata": {
      "needs_background": "light"
     },
     "output_type": "display_data"
    }
   ],
   "source": [
    "\n",
    "print(history1.history.keys())\n",
    "\n",
    "# summarize history for accuracy\n",
    "plt.plot(history1.history['accuracy'])\n",
    "plt.title('model accuracy')\n",
    "plt.ylabel('accuracy')\n",
    "plt.xlabel('epoch')\n",
    "plt.legend(['y_train', 'y_test'], loc='upper left')\n",
    "plt.show()"
   ]
  },
  {
   "cell_type": "code",
   "execution_count": 34,
   "id": "66101a10",
   "metadata": {
    "execution": {
     "iopub.execute_input": "2021-10-06T17:32:50.476802Z",
     "iopub.status.busy": "2021-10-06T17:32:50.474475Z",
     "iopub.status.idle": "2021-10-06T17:32:50.630323Z",
     "shell.execute_reply": "2021-10-06T17:32:50.631090Z",
     "shell.execute_reply.started": "2021-10-06T16:49:25.610090Z"
    },
    "papermill": {
     "duration": 0.34256,
     "end_time": "2021-10-06T17:32:50.631280",
     "exception": false,
     "start_time": "2021-10-06T17:32:50.288720",
     "status": "completed"
    },
    "tags": []
   },
   "outputs": [
    {
     "data": {
      "image/png": "[encoded data removed]",
      "text/plain": [
       "<Figure size 432x288 with 1 Axes>"
      ]
     },
     "metadata": {
      "needs_background": "light"
     },
     "output_type": "display_data"
    }
   ],
   "source": [
    "# summarize history for loss\n",
    "plt.plot(history1.history['loss'])\n",
    "plt.title('model loss')\n",
    "plt.ylabel('loss')\n",
    "plt.xlabel('epoch')\n",
    "plt.legend(['train', 'test'], loc='upper left')\n",
    "plt.show()"
   ]
  },
  {
   "cell_type": "markdown",
   "id": "e3d4cd51",
   "metadata": {
    "papermill": {
     "duration": 0.151871,
     "end_time": "2021-10-06T17:32:50.935150",
     "exception": false,
     "start_time": "2021-10-06T17:32:50.783279",
     "status": "completed"
    },
    "tags": []
   },
   "source": [
    "# ****(Architecture 3)****"
   ]
  },
  {
   "cell_type": "code",
   "execution_count": 35,
   "id": "89848140",
   "metadata": {
    "execution": {
     "iopub.execute_input": "2021-10-06T17:32:51.248135Z",
     "iopub.status.busy": "2021-10-06T17:32:51.247225Z",
     "iopub.status.idle": "2021-10-06T17:32:51.264804Z",
     "shell.execute_reply": "2021-10-06T17:32:51.264253Z",
     "shell.execute_reply.started": "2021-10-06T16:49:44.959164Z"
    },
    "papermill": {
     "duration": 0.177143,
     "end_time": "2021-10-06T17:32:51.264935",
     "exception": false,
     "start_time": "2021-10-06T17:32:51.087792",
     "status": "completed"
    },
    "tags": []
   },
   "outputs": [],
   "source": [
    "#first hidden layer and last layer or output layer\n",
    "model2 = Sequential([\n",
    " Dense(units=9,kernel_initializer='he_uniform',activation='relu',input_dim=30),\n",
    " Dense(units=1,kernel_initializer='glorot_uniform',activation='sigmoid'),\n",
    "])"
   ]
  },
  {
   "cell_type": "code",
   "execution_count": 36,
   "id": "6c4880b5",
   "metadata": {
    "execution": {
     "iopub.execute_input": "2021-10-06T17:32:51.588501Z",
     "iopub.status.busy": "2021-10-06T17:32:51.585931Z",
     "iopub.status.idle": "2021-10-06T17:32:51.592275Z",
     "shell.execute_reply": "2021-10-06T17:32:51.591816Z",
     "shell.execute_reply.started": "2021-10-06T16:49:50.298983Z"
    },
    "papermill": {
     "duration": 0.163911,
     "end_time": "2021-10-06T17:32:51.592383",
     "exception": false,
     "start_time": "2021-10-06T17:32:51.428472",
     "status": "completed"
    },
    "tags": []
   },
   "outputs": [
    {
     "name": "stdout",
     "output_type": "stream",
     "text": [
      "Model: \"sequential_2\"\n",
      "_________________________________________________________________\n",
      "Layer (type)                 Output Shape              Param #   \n",
      "=================================================================\n",
      "dense_7 (Dense)              (None, 9)                 279       \n",
      "_________________________________________________________________\n",
      "dense_8 (Dense)              (None, 1)                 10        \n",
      "=================================================================\n",
      "Total params: 289\n",
      "Trainable params: 289\n",
      "Non-trainable params: 0\n",
      "_________________________________________________________________\n"
     ]
    }
   ],
   "source": [
    "#taking summary of layers\n",
    "model2.summary()"
   ]
  },
  {
   "cell_type": "code",
   "execution_count": 37,
   "id": "1ca46787",
   "metadata": {
    "execution": {
     "iopub.execute_input": "2021-10-06T17:32:51.958723Z",
     "iopub.status.busy": "2021-10-06T17:32:51.957855Z",
     "iopub.status.idle": "2021-10-06T17:32:51.962081Z",
     "shell.execute_reply": "2021-10-06T17:32:51.962494Z",
     "shell.execute_reply.started": "2021-10-06T16:50:04.421413Z"
    },
    "papermill": {
     "duration": 0.169662,
     "end_time": "2021-10-06T17:32:51.962635",
     "exception": false,
     "start_time": "2021-10-06T17:32:51.792973",
     "status": "completed"
    },
    "tags": []
   },
   "outputs": [],
   "source": [
    "#compiling the ANN\n",
    "model2.compile('Adam',\n",
    " loss='binary_crossentropy',\n",
    " metrics=['accuracy'])"
   ]
  },
  {
   "cell_type": "code",
   "execution_count": 38,
   "id": "be030808",
   "metadata": {
    "execution": {
     "iopub.execute_input": "2021-10-06T17:32:52.270918Z",
     "iopub.status.busy": "2021-10-06T17:32:52.270059Z",
     "iopub.status.idle": "2021-10-06T17:32:58.265944Z",
     "shell.execute_reply": "2021-10-06T17:32:58.264739Z",
     "shell.execute_reply.started": "2021-10-06T16:52:19.946698Z"
    },
    "papermill": {
     "duration": 6.151809,
     "end_time": "2021-10-06T17:32:58.266082",
     "exception": false,
     "start_time": "2021-10-06T17:32:52.114273",
     "status": "completed"
    },
    "tags": []
   },
   "outputs": [
    {
     "name": "stdout",
     "output_type": "stream",
     "text": [
      "Epoch 1/100\n",
      "5/5 [==============================] - 0s 42ms/step - loss: 0.6662 - accuracy: 0.6251 - val_loss: 0.5747 - val_accuracy: 0.7176\n",
      "Epoch 2/100\n",
      "5/5 [==============================] - 0s 12ms/step - loss: 0.6332 - accuracy: 0.6751 - val_loss: 0.5341 - val_accuracy: 0.7412\n",
      "Epoch 3/100\n",
      "5/5 [==============================] - 0s 11ms/step - loss: 0.5844 - accuracy: 0.6959 - val_loss: 0.4960 - val_accuracy: 0.7765\n",
      "Epoch 4/100\n",
      "5/5 [==============================] - 0s 13ms/step - loss: 0.5542 - accuracy: 0.7077 - val_loss: 0.4609 - val_accuracy: 0.7765\n",
      "Epoch 5/100\n",
      "5/5 [==============================] - 0s 12ms/step - loss: 0.5384 - accuracy: 0.7469 - val_loss: 0.4276 - val_accuracy: 0.8353\n",
      "Epoch 6/100\n",
      "5/5 [==============================] - 0s 12ms/step - loss: 0.4746 - accuracy: 0.7649 - val_loss: 0.3976 - val_accuracy: 0.8353\n",
      "Epoch 7/100\n",
      "5/5 [==============================] - 0s 12ms/step - loss: 0.4535 - accuracy: 0.7759 - val_loss: 0.3699 - val_accuracy: 0.8588\n",
      "Epoch 8/100\n",
      "5/5 [==============================] - 0s 12ms/step - loss: 0.4596 - accuracy: 0.7837 - val_loss: 0.3454 - val_accuracy: 0.8588\n",
      "Epoch 9/100\n",
      "5/5 [==============================] - 0s 12ms/step - loss: 0.4252 - accuracy: 0.8088 - val_loss: 0.3233 - val_accuracy: 0.8941\n",
      "Epoch 10/100\n",
      "5/5 [==============================] - 0s 12ms/step - loss: 0.3764 - accuracy: 0.8502 - val_loss: 0.3034 - val_accuracy: 0.8941\n",
      "Epoch 11/100\n",
      "5/5 [==============================] - 0s 12ms/step - loss: 0.3681 - accuracy: 0.8542 - val_loss: 0.2859 - val_accuracy: 0.8941\n",
      "Epoch 12/100\n",
      "5/5 [==============================] - 0s 11ms/step - loss: 0.3585 - accuracy: 0.8625 - val_loss: 0.2702 - val_accuracy: 0.9059\n",
      "Epoch 13/100\n",
      "5/5 [==============================] - 0s 11ms/step - loss: 0.3530 - accuracy: 0.8650 - val_loss: 0.2563 - val_accuracy: 0.9059\n",
      "Epoch 14/100\n",
      "5/5 [==============================] - 0s 11ms/step - loss: 0.3395 - accuracy: 0.8680 - val_loss: 0.2436 - val_accuracy: 0.9412\n",
      "Epoch 15/100\n",
      "5/5 [==============================] - 0s 11ms/step - loss: 0.3190 - accuracy: 0.8817 - val_loss: 0.2323 - val_accuracy: 0.9529\n",
      "Epoch 16/100\n",
      "5/5 [==============================] - 0s 11ms/step - loss: 0.3149 - accuracy: 0.8796 - val_loss: 0.2224 - val_accuracy: 0.9529\n",
      "Epoch 17/100\n",
      "5/5 [==============================] - 0s 11ms/step - loss: 0.3260 - accuracy: 0.8789 - val_loss: 0.2134 - val_accuracy: 0.9529\n",
      "Epoch 18/100\n",
      "5/5 [==============================] - 0s 11ms/step - loss: 0.2893 - accuracy: 0.9008 - val_loss: 0.2054 - val_accuracy: 0.9529\n",
      "Epoch 19/100\n",
      "5/5 [==============================] - 0s 11ms/step - loss: 0.2942 - accuracy: 0.8950 - val_loss: 0.1978 - val_accuracy: 0.9529\n",
      "Epoch 20/100\n",
      "5/5 [==============================] - 0s 12ms/step - loss: 0.2858 - accuracy: 0.8953 - val_loss: 0.1908 - val_accuracy: 0.9529\n",
      "Epoch 21/100\n",
      "5/5 [==============================] - 0s 12ms/step - loss: 0.2693 - accuracy: 0.9047 - val_loss: 0.1842 - val_accuracy: 0.9529\n",
      "Epoch 22/100\n",
      "5/5 [==============================] - 0s 11ms/step - loss: 0.2595 - accuracy: 0.9123 - val_loss: 0.1780 - val_accuracy: 0.9529\n",
      "Epoch 23/100\n",
      "5/5 [==============================] - 0s 12ms/step - loss: 0.2655 - accuracy: 0.9066 - val_loss: 0.1726 - val_accuracy: 0.9529\n",
      "Epoch 24/100\n",
      "5/5 [==============================] - 0s 11ms/step - loss: 0.2423 - accuracy: 0.9215 - val_loss: 0.1672 - val_accuracy: 0.9647\n",
      "Epoch 25/100\n",
      "5/5 [==============================] - 0s 12ms/step - loss: 0.2385 - accuracy: 0.9263 - val_loss: 0.1622 - val_accuracy: 0.9647\n",
      "Epoch 26/100\n",
      "5/5 [==============================] - 0s 11ms/step - loss: 0.2340 - accuracy: 0.9202 - val_loss: 0.1576 - val_accuracy: 0.9647\n",
      "Epoch 27/100\n",
      "5/5 [==============================] - 0s 11ms/step - loss: 0.2319 - accuracy: 0.9195 - val_loss: 0.1532 - val_accuracy: 0.9765\n",
      "Epoch 28/100\n",
      "5/5 [==============================] - 0s 11ms/step - loss: 0.2261 - accuracy: 0.9257 - val_loss: 0.1488 - val_accuracy: 0.9765\n",
      "Epoch 29/100\n",
      "5/5 [==============================] - 0s 11ms/step - loss: 0.2314 - accuracy: 0.9198 - val_loss: 0.1447 - val_accuracy: 0.9765\n",
      "Epoch 30/100\n",
      "5/5 [==============================] - 0s 11ms/step - loss: 0.2208 - accuracy: 0.9241 - val_loss: 0.1409 - val_accuracy: 0.9765\n",
      "Epoch 31/100\n",
      "5/5 [==============================] - 0s 11ms/step - loss: 0.2225 - accuracy: 0.9185 - val_loss: 0.1373 - val_accuracy: 0.9765\n",
      "Epoch 32/100\n",
      "5/5 [==============================] - 0s 12ms/step - loss: 0.2022 - accuracy: 0.9266 - val_loss: 0.1338 - val_accuracy: 0.9765\n",
      "Epoch 33/100\n",
      "5/5 [==============================] - 0s 12ms/step - loss: 0.1968 - accuracy: 0.9306 - val_loss: 0.1304 - val_accuracy: 0.9765\n",
      "Epoch 34/100\n",
      "5/5 [==============================] - 0s 11ms/step - loss: 0.2078 - accuracy: 0.9244 - val_loss: 0.1272 - val_accuracy: 0.9765\n",
      "Epoch 35/100\n",
      "5/5 [==============================] - 0s 11ms/step - loss: 0.1928 - accuracy: 0.9311 - val_loss: 0.1243 - val_accuracy: 0.9765\n",
      "Epoch 36/100\n",
      "5/5 [==============================] - 0s 12ms/step - loss: 0.1843 - accuracy: 0.9347 - val_loss: 0.1213 - val_accuracy: 0.9765\n",
      "Epoch 37/100\n",
      "5/5 [==============================] - 0s 12ms/step - loss: 0.1786 - accuracy: 0.9373 - val_loss: 0.1187 - val_accuracy: 0.9765\n",
      "Epoch 38/100\n",
      "5/5 [==============================] - 0s 11ms/step - loss: 0.1845 - accuracy: 0.9243 - val_loss: 0.1162 - val_accuracy: 0.9765\n",
      "Epoch 39/100\n",
      "5/5 [==============================] - 0s 11ms/step - loss: 0.1854 - accuracy: 0.9379 - val_loss: 0.1138 - val_accuracy: 0.9765\n",
      "Epoch 40/100\n",
      "5/5 [==============================] - 0s 11ms/step - loss: 0.1772 - accuracy: 0.9404 - val_loss: 0.1114 - val_accuracy: 0.9765\n",
      "Epoch 41/100\n",
      "5/5 [==============================] - 0s 12ms/step - loss: 0.1771 - accuracy: 0.9322 - val_loss: 0.1092 - val_accuracy: 0.9765\n",
      "Epoch 42/100\n",
      "5/5 [==============================] - 0s 13ms/step - loss: 0.1653 - accuracy: 0.9416 - val_loss: 0.1071 - val_accuracy: 0.9882\n",
      "Epoch 43/100\n",
      "5/5 [==============================] - 0s 12ms/step - loss: 0.1666 - accuracy: 0.9499 - val_loss: 0.1050 - val_accuracy: 0.9882\n",
      "Epoch 44/100\n",
      "5/5 [==============================] - 0s 11ms/step - loss: 0.1577 - accuracy: 0.9513 - val_loss: 0.1031 - val_accuracy: 0.9882\n",
      "Epoch 45/100\n",
      "5/5 [==============================] - 0s 11ms/step - loss: 0.1574 - accuracy: 0.9531 - val_loss: 0.1012 - val_accuracy: 0.9882\n",
      "Epoch 46/100\n",
      "5/5 [==============================] - 0s 11ms/step - loss: 0.1648 - accuracy: 0.9500 - val_loss: 0.0995 - val_accuracy: 0.9882\n",
      "Epoch 47/100\n",
      "5/5 [==============================] - 0s 11ms/step - loss: 0.1496 - accuracy: 0.9541 - val_loss: 0.0978 - val_accuracy: 0.9882\n",
      "Epoch 48/100\n",
      "5/5 [==============================] - 0s 11ms/step - loss: 0.1504 - accuracy: 0.9553 - val_loss: 0.0961 - val_accuracy: 0.9882\n",
      "Epoch 49/100\n",
      "5/5 [==============================] - 0s 12ms/step - loss: 0.1435 - accuracy: 0.9577 - val_loss: 0.0943 - val_accuracy: 0.9882\n",
      "Epoch 50/100\n",
      "5/5 [==============================] - 0s 12ms/step - loss: 0.1462 - accuracy: 0.9606 - val_loss: 0.0924 - val_accuracy: 0.9882\n",
      "Epoch 51/100\n",
      "5/5 [==============================] - 0s 12ms/step - loss: 0.1457 - accuracy: 0.9597 - val_loss: 0.0906 - val_accuracy: 0.9882\n",
      "Epoch 52/100\n",
      "5/5 [==============================] - 0s 11ms/step - loss: 0.1454 - accuracy: 0.9548 - val_loss: 0.0891 - val_accuracy: 0.9882\n",
      "Epoch 53/100\n",
      "5/5 [==============================] - 0s 11ms/step - loss: 0.1427 - accuracy: 0.9640 - val_loss: 0.0877 - val_accuracy: 0.9882\n",
      "Epoch 54/100\n",
      "5/5 [==============================] - 0s 11ms/step - loss: 0.1398 - accuracy: 0.9684 - val_loss: 0.0862 - val_accuracy: 0.9882\n",
      "Epoch 55/100\n",
      "5/5 [==============================] - 0s 11ms/step - loss: 0.1316 - accuracy: 0.9679 - val_loss: 0.0848 - val_accuracy: 0.9882\n",
      "Epoch 56/100\n",
      "5/5 [==============================] - 0s 12ms/step - loss: 0.1386 - accuracy: 0.9661 - val_loss: 0.0835 - val_accuracy: 0.9882\n",
      "Epoch 57/100\n",
      "5/5 [==============================] - 0s 12ms/step - loss: 0.1301 - accuracy: 0.9613 - val_loss: 0.0823 - val_accuracy: 0.9882\n",
      "Epoch 58/100\n",
      "5/5 [==============================] - 0s 12ms/step - loss: 0.1375 - accuracy: 0.9599 - val_loss: 0.0811 - val_accuracy: 0.9882\n",
      "Epoch 59/100\n",
      "5/5 [==============================] - 0s 13ms/step - loss: 0.1177 - accuracy: 0.9722 - val_loss: 0.0799 - val_accuracy: 0.9882\n",
      "Epoch 60/100\n",
      "5/5 [==============================] - 0s 13ms/step - loss: 0.1194 - accuracy: 0.9723 - val_loss: 0.0789 - val_accuracy: 0.9882\n",
      "Epoch 61/100\n",
      "5/5 [==============================] - 0s 12ms/step - loss: 0.1305 - accuracy: 0.9648 - val_loss: 0.0779 - val_accuracy: 0.9882\n",
      "Epoch 62/100\n",
      "5/5 [==============================] - 0s 11ms/step - loss: 0.1270 - accuracy: 0.9668 - val_loss: 0.0769 - val_accuracy: 0.9882\n",
      "Epoch 63/100\n",
      "5/5 [==============================] - 0s 11ms/step - loss: 0.1366 - accuracy: 0.9577 - val_loss: 0.0760 - val_accuracy: 0.9882\n",
      "Epoch 64/100\n",
      "5/5 [==============================] - 0s 11ms/step - loss: 0.1257 - accuracy: 0.9641 - val_loss: 0.0750 - val_accuracy: 0.9882\n",
      "Epoch 65/100\n",
      "5/5 [==============================] - 0s 11ms/step - loss: 0.1067 - accuracy: 0.9702 - val_loss: 0.0743 - val_accuracy: 0.9882\n",
      "Epoch 66/100\n",
      "5/5 [==============================] - 0s 11ms/step - loss: 0.1143 - accuracy: 0.9711 - val_loss: 0.0737 - val_accuracy: 0.9882\n",
      "Epoch 67/100\n",
      "5/5 [==============================] - 0s 11ms/step - loss: 0.1265 - accuracy: 0.9671 - val_loss: 0.0730 - val_accuracy: 0.9882\n",
      "Epoch 68/100\n",
      "5/5 [==============================] - 0s 11ms/step - loss: 0.1041 - accuracy: 0.9759 - val_loss: 0.0723 - val_accuracy: 0.9882\n",
      "Epoch 69/100\n",
      "5/5 [==============================] - 0s 11ms/step - loss: 0.1105 - accuracy: 0.9719 - val_loss: 0.0718 - val_accuracy: 0.9882\n",
      "Epoch 70/100\n",
      "5/5 [==============================] - 0s 11ms/step - loss: 0.1067 - accuracy: 0.9746 - val_loss: 0.0712 - val_accuracy: 0.9882\n",
      "Epoch 71/100\n",
      "5/5 [==============================] - 0s 11ms/step - loss: 0.1028 - accuracy: 0.9760 - val_loss: 0.0706 - val_accuracy: 0.9882\n",
      "Epoch 72/100\n",
      "5/5 [==============================] - 0s 11ms/step - loss: 0.0966 - accuracy: 0.9743 - val_loss: 0.0700 - val_accuracy: 0.9882\n",
      "Epoch 73/100\n",
      "5/5 [==============================] - 0s 11ms/step - loss: 0.0999 - accuracy: 0.9812 - val_loss: 0.0695 - val_accuracy: 0.9882\n",
      "Epoch 74/100\n",
      "5/5 [==============================] - 0s 11ms/step - loss: 0.1016 - accuracy: 0.9750 - val_loss: 0.0691 - val_accuracy: 0.9882\n",
      "Epoch 75/100\n",
      "5/5 [==============================] - 0s 11ms/step - loss: 0.0982 - accuracy: 0.9730 - val_loss: 0.0686 - val_accuracy: 0.9882\n",
      "Epoch 76/100\n",
      "5/5 [==============================] - 0s 25ms/step - loss: 0.0967 - accuracy: 0.9735 - val_loss: 0.0679 - val_accuracy: 0.9882\n",
      "Epoch 77/100\n",
      "5/5 [==============================] - 0s 22ms/step - loss: 0.0935 - accuracy: 0.9772 - val_loss: 0.0672 - val_accuracy: 0.9882\n",
      "Epoch 78/100\n",
      "5/5 [==============================] - 0s 19ms/step - loss: 0.1066 - accuracy: 0.9708 - val_loss: 0.0666 - val_accuracy: 0.9882\n",
      "Epoch 79/100\n",
      "5/5 [==============================] - 0s 19ms/step - loss: 0.0862 - accuracy: 0.9777 - val_loss: 0.0660 - val_accuracy: 0.9882\n",
      "Epoch 80/100\n",
      "5/5 [==============================] - 0s 18ms/step - loss: 0.0943 - accuracy: 0.9752 - val_loss: 0.0654 - val_accuracy: 0.9882\n",
      "Epoch 81/100\n",
      "5/5 [==============================] - 0s 20ms/step - loss: 0.0872 - accuracy: 0.9808 - val_loss: 0.0647 - val_accuracy: 0.9882\n",
      "Epoch 82/100\n",
      "5/5 [==============================] - 0s 16ms/step - loss: 0.0957 - accuracy: 0.9733 - val_loss: 0.0641 - val_accuracy: 0.9882\n",
      "Epoch 83/100\n",
      "5/5 [==============================] - 0s 11ms/step - loss: 0.1009 - accuracy: 0.9694 - val_loss: 0.0636 - val_accuracy: 0.9882\n",
      "Epoch 84/100\n",
      "5/5 [==============================] - 0s 12ms/step - loss: 0.1054 - accuracy: 0.9666 - val_loss: 0.0633 - val_accuracy: 0.9882\n",
      "Epoch 85/100\n",
      "5/5 [==============================] - 0s 11ms/step - loss: 0.0989 - accuracy: 0.9723 - val_loss: 0.0627 - val_accuracy: 0.9882\n",
      "Epoch 86/100\n",
      "5/5 [==============================] - 0s 12ms/step - loss: 0.0917 - accuracy: 0.9816 - val_loss: 0.0623 - val_accuracy: 0.9882\n",
      "Epoch 87/100\n",
      "5/5 [==============================] - 0s 12ms/step - loss: 0.0793 - accuracy: 0.9852 - val_loss: 0.0618 - val_accuracy: 0.9882\n",
      "Epoch 88/100\n",
      "5/5 [==============================] - 0s 11ms/step - loss: 0.0773 - accuracy: 0.9850 - val_loss: 0.0615 - val_accuracy: 0.9882\n",
      "Epoch 89/100\n",
      "5/5 [==============================] - 0s 11ms/step - loss: 0.0949 - accuracy: 0.9793 - val_loss: 0.0612 - val_accuracy: 0.9882\n",
      "Epoch 90/100\n",
      "5/5 [==============================] - 0s 11ms/step - loss: 0.0863 - accuracy: 0.9825 - val_loss: 0.0609 - val_accuracy: 0.9882\n",
      "Epoch 91/100\n",
      "5/5 [==============================] - 0s 12ms/step - loss: 0.0835 - accuracy: 0.9799 - val_loss: 0.0606 - val_accuracy: 0.9882\n",
      "Epoch 92/100\n",
      "5/5 [==============================] - 0s 13ms/step - loss: 0.0876 - accuracy: 0.9793 - val_loss: 0.0603 - val_accuracy: 0.9882\n",
      "Epoch 93/100\n",
      "5/5 [==============================] - 0s 11ms/step - loss: 0.0698 - accuracy: 0.9874 - val_loss: 0.0601 - val_accuracy: 0.9882\n",
      "Epoch 94/100\n",
      "5/5 [==============================] - 0s 12ms/step - loss: 0.0822 - accuracy: 0.9840 - val_loss: 0.0598 - val_accuracy: 0.9882\n",
      "Epoch 95/100\n",
      "5/5 [==============================] - 0s 11ms/step - loss: 0.0807 - accuracy: 0.9787 - val_loss: 0.0596 - val_accuracy: 0.9882\n",
      "Epoch 96/100\n",
      "5/5 [==============================] - 0s 12ms/step - loss: 0.0752 - accuracy: 0.9857 - val_loss: 0.0593 - val_accuracy: 0.9882\n",
      "Epoch 97/100\n",
      "5/5 [==============================] - 0s 11ms/step - loss: 0.0852 - accuracy: 0.9819 - val_loss: 0.0592 - val_accuracy: 0.9882\n",
      "Epoch 98/100\n",
      "5/5 [==============================] - 0s 12ms/step - loss: 0.0718 - accuracy: 0.9857 - val_loss: 0.0591 - val_accuracy: 0.9882\n",
      "Epoch 99/100\n",
      "5/5 [==============================] - 0s 11ms/step - loss: 0.0897 - accuracy: 0.9743 - val_loss: 0.0589 - val_accuracy: 0.9882\n",
      "Epoch 100/100\n",
      "5/5 [==============================] - 0s 11ms/step - loss: 0.0712 - accuracy: 0.9829 - val_loss: 0.0588 - val_accuracy: 0.9882\n"
     ]
    }
   ],
   "source": [
    "history2=model2.fit(x_train,\n",
    " y_train,\n",
    " validation_data=(x_val, y_val),\n",
    " batch_size=100,\n",
    " epochs=100,\n",
    " verbose=1)"
   ]
  },
  {
   "cell_type": "code",
   "execution_count": 39,
   "id": "04ba2d3b",
   "metadata": {
    "execution": {
     "iopub.execute_input": "2021-10-06T17:32:58.679206Z",
     "iopub.status.busy": "2021-10-06T17:32:58.678680Z",
     "iopub.status.idle": "2021-10-06T17:32:58.747461Z",
     "shell.execute_reply": "2021-10-06T17:32:58.746837Z",
     "shell.execute_reply.started": "2021-10-06T16:52:39.432754Z"
    },
    "papermill": {
     "duration": 0.277615,
     "end_time": "2021-10-06T17:32:58.747618",
     "exception": false,
     "start_time": "2021-10-06T17:32:58.470003",
     "status": "completed"
    },
    "tags": []
   },
   "outputs": [
    {
     "name": "stdout",
     "output_type": "stream",
     "text": [
      "Train Accuracy:  0.9812206572769953\n"
     ]
    }
   ],
   "source": [
    "y_pred1= model2.predict(x_train)\n",
    "y_pred1 = [ 1 if y>=0.5 else 0 for y in y_pred1]\n",
    "from sklearn.metrics import accuracy_score\n",
    "print(\"Train Accuracy: \",accuracy_score(y_true = y_train, y_pred =y_pred1))"
   ]
  },
  {
   "cell_type": "code",
   "execution_count": 40,
   "id": "1a4fd9bd",
   "metadata": {
    "execution": {
     "iopub.execute_input": "2021-10-06T17:32:59.167130Z",
     "iopub.status.busy": "2021-10-06T17:32:59.166324Z",
     "iopub.status.idle": "2021-10-06T17:32:59.203041Z",
     "shell.execute_reply": "2021-10-06T17:32:59.202425Z",
     "shell.execute_reply.started": "2021-10-06T16:52:49.783208Z"
    },
    "papermill": {
     "duration": 0.246854,
     "end_time": "2021-10-06T17:32:59.203207",
     "exception": false,
     "start_time": "2021-10-06T17:32:58.956353",
     "status": "completed"
    },
    "tags": []
   },
   "outputs": [
    {
     "name": "stdout",
     "output_type": "stream",
     "text": [
      "Test Accuracy:  0.8793103448275862\n"
     ]
    }
   ],
   "source": [
    "y_pred2= model2.predict(x_test)\n",
    "y_pred2 = [ 1 if y>=0.5 else 0 for y in y_pred2]\n",
    "from sklearn.metrics import accuracy_score\n",
    "print(\"Test Accuracy: \",accuracy_score(y_true = y_test, y_pred =y_pred2))"
   ]
  },
  {
   "cell_type": "code",
   "execution_count": 41,
   "id": "4c143b24",
   "metadata": {
    "execution": {
     "iopub.execute_input": "2021-10-06T17:32:59.637010Z",
     "iopub.status.busy": "2021-10-06T17:32:59.628982Z",
     "iopub.status.idle": "2021-10-06T17:32:59.658942Z",
     "shell.execute_reply": "2021-10-06T17:32:59.659877Z",
     "shell.execute_reply.started": "2021-10-06T16:52:54.875513Z"
    },
    "papermill": {
     "duration": 0.250845,
     "end_time": "2021-10-06T17:32:59.660064",
     "exception": false,
     "start_time": "2021-10-06T17:32:59.409219",
     "status": "completed"
    },
    "tags": []
   },
   "outputs": [
    {
     "name": "stdout",
     "output_type": "stream",
     "text": [
      "Precision: 1.0\n",
      "Recall:  0.7666666666666667\n",
      "f1 Score:  0.8679245283018869\n",
      "Confusion Matrix:\n",
      " [[28  0]\n",
      " [ 7 23]]\n"
     ]
    }
   ],
   "source": [
    "from sklearn.metrics import precision_score, recall_score, f1_score, confusion_matrix\n",
    "print(\"Precision:\",precision_score(y_true = y_test, y_pred =y_pred2))\n",
    "print(\"Recall: \",recall_score(y_true = y_test, y_pred =y_pred2))\n",
    "print(\"f1 Score: \",f1_score(y_true = y_test, y_pred =y_pred2))\n",
    "print(\"Confusion Matrix:\\n\",confusion_matrix(y_true = y_test, y_pred =y_pred2))"
   ]
  },
  {
   "cell_type": "code",
   "execution_count": 42,
   "id": "21a3ac37",
   "metadata": {
    "execution": {
     "iopub.execute_input": "2021-10-06T17:33:00.363129Z",
     "iopub.status.busy": "2021-10-06T17:33:00.362222Z",
     "iopub.status.idle": "2021-10-06T17:33:00.676627Z",
     "shell.execute_reply": "2021-10-06T17:33:00.677689Z",
     "shell.execute_reply.started": "2021-10-06T16:53:09.450894Z"
    },
    "papermill": {
     "duration": 0.672863,
     "end_time": "2021-10-06T17:33:00.677898",
     "exception": false,
     "start_time": "2021-10-06T17:33:00.005035",
     "status": "completed"
    },
    "tags": []
   },
   "outputs": [
    {
     "data": {
      "image/png": "[encoded data removed]",
      "text/plain": [
       "<Figure size 1008x504 with 2 Axes>"
      ]
     },
     "metadata": {
      "needs_background": "light"
     },
     "output_type": "display_data"
    }
   ],
   "source": [
    "cm = confusion_matrix(y_true = y_test, y_pred =y_pred2)\n",
    "plt.figure(figsize=[14,7])\n",
    "sb.heatmap(cm,annot=True)\n",
    "plt.show()"
   ]
  },
  {
   "cell_type": "code",
   "execution_count": 43,
   "id": "d1490c75",
   "metadata": {
    "execution": {
     "iopub.execute_input": "2021-10-06T17:33:01.189567Z",
     "iopub.status.busy": "2021-10-06T17:33:01.181164Z",
     "iopub.status.idle": "2021-10-06T17:33:01.368587Z",
     "shell.execute_reply": "2021-10-06T17:33:01.369030Z",
     "shell.execute_reply.started": "2021-10-06T16:53:31.064078Z"
    },
    "papermill": {
     "duration": 0.409957,
     "end_time": "2021-10-06T17:33:01.369209",
     "exception": false,
     "start_time": "2021-10-06T17:33:00.959252",
     "status": "completed"
    },
    "tags": []
   },
   "outputs": [
    {
     "name": "stdout",
     "output_type": "stream",
     "text": [
      "dict_keys(['loss', 'accuracy', 'val_loss', 'val_accuracy'])\n"
     ]
    },
    {
     "data": {
      "image/png": "[encoded data removed]",
      "text/plain": [
       "<Figure size 432x288 with 1 Axes>"
      ]
     },
     "metadata": {
      "needs_background": "light"
     },
     "output_type": "display_data"
    }
   ],
   "source": [
    "print(history2.history.keys())\n",
    "\n",
    "# summarize history for accuracy\n",
    "plt.plot(history2.history['accuracy'])\n",
    "plt.title('model accuracy')\n",
    "plt.ylabel('accuracy')\n",
    "plt.xlabel('epoch')\n",
    "plt.legend(['y_train', 'y_test'], loc='upper left')\n",
    "plt.show()"
   ]
  },
  {
   "cell_type": "code",
   "execution_count": 44,
   "id": "37ee6596",
   "metadata": {
    "execution": {
     "iopub.execute_input": "2021-10-06T17:33:01.873261Z",
     "iopub.status.busy": "2021-10-06T17:33:01.857400Z",
     "iopub.status.idle": "2021-10-06T17:33:02.050573Z",
     "shell.execute_reply": "2021-10-06T17:33:02.051028Z",
     "shell.execute_reply.started": "2021-10-06T16:53:52.811227Z"
    },
    "papermill": {
     "duration": 0.464968,
     "end_time": "2021-10-06T17:33:02.051196",
     "exception": false,
     "start_time": "2021-10-06T17:33:01.586228",
     "status": "completed"
    },
    "tags": []
   },
   "outputs": [
    {
     "data": {
      "image/png": "[encoded data removed]",
      "text/plain": [
       "<Figure size 432x288 with 1 Axes>"
      ]
     },
     "metadata": {
      "needs_background": "light"
     },
     "output_type": "display_data"
    }
   ],
   "source": [
    "# summarize history for loss\n",
    "plt.plot(history2.history['loss'])\n",
    "plt.title('model loss')\n",
    "plt.ylabel('loss')\n",
    "plt.xlabel('epoch')\n",
    "plt.legend(['train', 'test'], loc='upper left')\n",
    "plt.show()"
   ]
  },
  {
   "cell_type": "markdown",
   "id": "a1b2ee35",
   "metadata": {
    "papermill": {
     "duration": 0.212976,
     "end_time": "2021-10-06T17:33:02.478226",
     "exception": false,
     "start_time": "2021-10-06T17:33:02.265250",
     "status": "completed"
    },
    "tags": []
   },
   "source": [
    "****Conclusion****\n",
    "\n",
    "So after changing the architecture there will be slite difference between training accuracy , but testing accuracy remains same. Probably this happens bacuase of dataset is smaller and popular banchmark dataset. In future I will try for custom dataset. "
   ]
  }
 ],
 "metadata": {
  "kernelspec": {
   "display_name": "Python 3",
   "language": "python",
   "name": "python3"
  },
  "language_info": {
   "codemirror_mode": {
    "name": "ipython",
    "version": 3
   },
   "file_extension": ".py",
   "mimetype": "text/x-python",
   "name": "python",
   "nbconvert_exporter": "python",
   "pygments_lexer": "ipython3",
   "version": "3.7.10"
  },
  "papermill": {
   "default_parameters": {},
   "duration": 52.773881,
   "end_time": "2021-10-06T17:33:05.990705",
   "environment_variables": {},
   "exception": null,
   "input_path": "__notebook__.ipynb",
   "output_path": "__notebook__.ipynb",
   "parameters": {},
   "start_time": "2021-10-06T17:32:13.216824",
   "version": "2.3.3"
  }
 },
 "nbformat": 4,
 "nbformat_minor": 5
}
